{
 "cells": [
  {
   "cell_type": "code",
   "execution_count": 92,
   "id": "5d816f24",
   "metadata": {},
   "outputs": [],
   "source": [
    "import pandas as pd\n",
    "import numpy as np\n",
    "import plotly.graph_objects as go\n",
    "import matplotlib.pyplot as plt\n",
    "from scipy.stats import gaussian_kde, mode, skew \n",
    "import plotly.express as px\n",
    "import seaborn as sns"
   ]
  },
  {
   "cell_type": "code",
   "execution_count": 93,
   "id": "de09a11f",
   "metadata": {},
   "outputs": [
    {
     "data": {
      "text/html": [
       "<div>\n",
       "<style scoped>\n",
       "    .dataframe tbody tr th:only-of-type {\n",
       "        vertical-align: middle;\n",
       "    }\n",
       "\n",
       "    .dataframe tbody tr th {\n",
       "        vertical-align: top;\n",
       "    }\n",
       "\n",
       "    .dataframe thead th {\n",
       "        text-align: right;\n",
       "    }\n",
       "</style>\n",
       "<table border=\"1\" class=\"dataframe\">\n",
       "  <thead>\n",
       "    <tr style=\"text-align: right;\">\n",
       "      <th></th>\n",
       "      <th>work_year</th>\n",
       "      <th>experience_level</th>\n",
       "      <th>employment_type</th>\n",
       "      <th>job_title</th>\n",
       "      <th>salary</th>\n",
       "      <th>salary_currency</th>\n",
       "      <th>salary_in_usd</th>\n",
       "      <th>employee_residence</th>\n",
       "      <th>remote_ratio</th>\n",
       "      <th>company_location</th>\n",
       "      <th>company_size</th>\n",
       "    </tr>\n",
       "  </thead>\n",
       "  <tbody>\n",
       "    <tr>\n",
       "      <th>0</th>\n",
       "      <td>2025</td>\n",
       "      <td>MI</td>\n",
       "      <td>FT</td>\n",
       "      <td>Analyst</td>\n",
       "      <td>142000</td>\n",
       "      <td>USD</td>\n",
       "      <td>142000</td>\n",
       "      <td>US</td>\n",
       "      <td>0</td>\n",
       "      <td>US</td>\n",
       "      <td>M</td>\n",
       "    </tr>\n",
       "    <tr>\n",
       "      <th>1</th>\n",
       "      <td>2025</td>\n",
       "      <td>MI</td>\n",
       "      <td>FT</td>\n",
       "      <td>Analyst</td>\n",
       "      <td>87000</td>\n",
       "      <td>USD</td>\n",
       "      <td>87000</td>\n",
       "      <td>US</td>\n",
       "      <td>0</td>\n",
       "      <td>US</td>\n",
       "      <td>M</td>\n",
       "    </tr>\n",
       "    <tr>\n",
       "      <th>2</th>\n",
       "      <td>2025</td>\n",
       "      <td>SE</td>\n",
       "      <td>FT</td>\n",
       "      <td>Data Quality Lead</td>\n",
       "      <td>218700</td>\n",
       "      <td>USD</td>\n",
       "      <td>218700</td>\n",
       "      <td>US</td>\n",
       "      <td>0</td>\n",
       "      <td>US</td>\n",
       "      <td>M</td>\n",
       "    </tr>\n",
       "    <tr>\n",
       "      <th>3</th>\n",
       "      <td>2025</td>\n",
       "      <td>SE</td>\n",
       "      <td>FT</td>\n",
       "      <td>Data Quality Lead</td>\n",
       "      <td>163200</td>\n",
       "      <td>USD</td>\n",
       "      <td>163200</td>\n",
       "      <td>US</td>\n",
       "      <td>0</td>\n",
       "      <td>US</td>\n",
       "      <td>M</td>\n",
       "    </tr>\n",
       "    <tr>\n",
       "      <th>4</th>\n",
       "      <td>2025</td>\n",
       "      <td>MI</td>\n",
       "      <td>FT</td>\n",
       "      <td>Data Quality Specialist</td>\n",
       "      <td>121524</td>\n",
       "      <td>USD</td>\n",
       "      <td>121524</td>\n",
       "      <td>US</td>\n",
       "      <td>0</td>\n",
       "      <td>US</td>\n",
       "      <td>M</td>\n",
       "    </tr>\n",
       "    <tr>\n",
       "      <th>...</th>\n",
       "      <td>...</td>\n",
       "      <td>...</td>\n",
       "      <td>...</td>\n",
       "      <td>...</td>\n",
       "      <td>...</td>\n",
       "      <td>...</td>\n",
       "      <td>...</td>\n",
       "      <td>...</td>\n",
       "      <td>...</td>\n",
       "      <td>...</td>\n",
       "      <td>...</td>\n",
       "    </tr>\n",
       "    <tr>\n",
       "      <th>146343</th>\n",
       "      <td>2020</td>\n",
       "      <td>SE</td>\n",
       "      <td>FT</td>\n",
       "      <td>Data Scientist</td>\n",
       "      <td>412000</td>\n",
       "      <td>USD</td>\n",
       "      <td>412000</td>\n",
       "      <td>US</td>\n",
       "      <td>100</td>\n",
       "      <td>US</td>\n",
       "      <td>L</td>\n",
       "    </tr>\n",
       "    <tr>\n",
       "      <th>146344</th>\n",
       "      <td>2021</td>\n",
       "      <td>MI</td>\n",
       "      <td>FT</td>\n",
       "      <td>Principal Data Scientist</td>\n",
       "      <td>151000</td>\n",
       "      <td>USD</td>\n",
       "      <td>151000</td>\n",
       "      <td>US</td>\n",
       "      <td>100</td>\n",
       "      <td>US</td>\n",
       "      <td>L</td>\n",
       "    </tr>\n",
       "    <tr>\n",
       "      <th>146345</th>\n",
       "      <td>2020</td>\n",
       "      <td>EN</td>\n",
       "      <td>FT</td>\n",
       "      <td>Data Scientist</td>\n",
       "      <td>105000</td>\n",
       "      <td>USD</td>\n",
       "      <td>105000</td>\n",
       "      <td>US</td>\n",
       "      <td>100</td>\n",
       "      <td>US</td>\n",
       "      <td>S</td>\n",
       "    </tr>\n",
       "    <tr>\n",
       "      <th>146346</th>\n",
       "      <td>2020</td>\n",
       "      <td>EN</td>\n",
       "      <td>CT</td>\n",
       "      <td>Business Data Analyst</td>\n",
       "      <td>100000</td>\n",
       "      <td>USD</td>\n",
       "      <td>100000</td>\n",
       "      <td>US</td>\n",
       "      <td>100</td>\n",
       "      <td>US</td>\n",
       "      <td>L</td>\n",
       "    </tr>\n",
       "    <tr>\n",
       "      <th>146347</th>\n",
       "      <td>2021</td>\n",
       "      <td>SE</td>\n",
       "      <td>FT</td>\n",
       "      <td>Data Scientist</td>\n",
       "      <td>7000000</td>\n",
       "      <td>INR</td>\n",
       "      <td>94665</td>\n",
       "      <td>IN</td>\n",
       "      <td>50</td>\n",
       "      <td>IN</td>\n",
       "      <td>L</td>\n",
       "    </tr>\n",
       "  </tbody>\n",
       "</table>\n",
       "<p>146348 rows × 11 columns</p>\n",
       "</div>"
      ],
      "text/plain": [
       "        work_year experience_level employment_type                 job_title  \\\n",
       "0            2025               MI              FT                   Analyst   \n",
       "1            2025               MI              FT                   Analyst   \n",
       "2            2025               SE              FT         Data Quality Lead   \n",
       "3            2025               SE              FT         Data Quality Lead   \n",
       "4            2025               MI              FT   Data Quality Specialist   \n",
       "...           ...              ...             ...                       ...   \n",
       "146343       2020               SE              FT            Data Scientist   \n",
       "146344       2021               MI              FT  Principal Data Scientist   \n",
       "146345       2020               EN              FT            Data Scientist   \n",
       "146346       2020               EN              CT     Business Data Analyst   \n",
       "146347       2021               SE              FT            Data Scientist   \n",
       "\n",
       "         salary salary_currency  salary_in_usd employee_residence  \\\n",
       "0        142000             USD         142000                 US   \n",
       "1         87000             USD          87000                 US   \n",
       "2        218700             USD         218700                 US   \n",
       "3        163200             USD         163200                 US   \n",
       "4        121524             USD         121524                 US   \n",
       "...         ...             ...            ...                ...   \n",
       "146343   412000             USD         412000                 US   \n",
       "146344   151000             USD         151000                 US   \n",
       "146345   105000             USD         105000                 US   \n",
       "146346   100000             USD         100000                 US   \n",
       "146347  7000000             INR          94665                 IN   \n",
       "\n",
       "        remote_ratio company_location company_size  \n",
       "0                  0               US            M  \n",
       "1                  0               US            M  \n",
       "2                  0               US            M  \n",
       "3                  0               US            M  \n",
       "4                  0               US            M  \n",
       "...              ...              ...          ...  \n",
       "146343           100               US            L  \n",
       "146344           100               US            L  \n",
       "146345           100               US            S  \n",
       "146346           100               US            L  \n",
       "146347            50               IN            L  \n",
       "\n",
       "[146348 rows x 11 columns]"
      ]
     },
     "execution_count": 93,
     "metadata": {},
     "output_type": "execute_result"
    }
   ],
   "source": [
    "df=pd.read_csv(r\"D:\\AI\\salaries.csv\")\n",
    "df"
   ]
  },
  {
   "cell_type": "markdown",
   "id": "438d338e",
   "metadata": {},
   "source": [
    "# EDA"
   ]
  },
  {
   "cell_type": "code",
   "execution_count": 94,
   "id": "c3f2b70c",
   "metadata": {},
   "outputs": [
    {
     "data": {
      "text/html": [
       "<div>\n",
       "<style scoped>\n",
       "    .dataframe tbody tr th:only-of-type {\n",
       "        vertical-align: middle;\n",
       "    }\n",
       "\n",
       "    .dataframe tbody tr th {\n",
       "        vertical-align: top;\n",
       "    }\n",
       "\n",
       "    .dataframe thead th {\n",
       "        text-align: right;\n",
       "    }\n",
       "</style>\n",
       "<table border=\"1\" class=\"dataframe\">\n",
       "  <thead>\n",
       "    <tr style=\"text-align: right;\">\n",
       "      <th></th>\n",
       "      <th>work_year</th>\n",
       "      <th>salary</th>\n",
       "      <th>salary_in_usd</th>\n",
       "      <th>remote_ratio</th>\n",
       "    </tr>\n",
       "  </thead>\n",
       "  <tbody>\n",
       "    <tr>\n",
       "      <th>count</th>\n",
       "      <td>146348.000000</td>\n",
       "      <td>1.463480e+05</td>\n",
       "      <td>146348.000000</td>\n",
       "      <td>146348.000000</td>\n",
       "    </tr>\n",
       "    <tr>\n",
       "      <th>mean</th>\n",
       "      <td>2024.415646</td>\n",
       "      <td>1.629267e+05</td>\n",
       "      <td>157485.290691</td>\n",
       "      <td>20.901550</td>\n",
       "    </tr>\n",
       "    <tr>\n",
       "      <th>std</th>\n",
       "      <td>0.674981</td>\n",
       "      <td>2.106091e+05</td>\n",
       "      <td>74134.134223</td>\n",
       "      <td>40.591728</td>\n",
       "    </tr>\n",
       "    <tr>\n",
       "      <th>min</th>\n",
       "      <td>2020.000000</td>\n",
       "      <td>1.400000e+04</td>\n",
       "      <td>15000.000000</td>\n",
       "      <td>0.000000</td>\n",
       "    </tr>\n",
       "    <tr>\n",
       "      <th>25%</th>\n",
       "      <td>2024.000000</td>\n",
       "      <td>1.060000e+05</td>\n",
       "      <td>106000.000000</td>\n",
       "      <td>0.000000</td>\n",
       "    </tr>\n",
       "    <tr>\n",
       "      <th>50%</th>\n",
       "      <td>2025.000000</td>\n",
       "      <td>1.470000e+05</td>\n",
       "      <td>146100.000000</td>\n",
       "      <td>0.000000</td>\n",
       "    </tr>\n",
       "    <tr>\n",
       "      <th>75%</th>\n",
       "      <td>2025.000000</td>\n",
       "      <td>1.990000e+05</td>\n",
       "      <td>198000.000000</td>\n",
       "      <td>0.000000</td>\n",
       "    </tr>\n",
       "    <tr>\n",
       "      <th>max</th>\n",
       "      <td>2025.000000</td>\n",
       "      <td>3.040000e+07</td>\n",
       "      <td>800000.000000</td>\n",
       "      <td>100.000000</td>\n",
       "    </tr>\n",
       "  </tbody>\n",
       "</table>\n",
       "</div>"
      ],
      "text/plain": [
       "           work_year        salary  salary_in_usd   remote_ratio\n",
       "count  146348.000000  1.463480e+05  146348.000000  146348.000000\n",
       "mean     2024.415646  1.629267e+05  157485.290691      20.901550\n",
       "std         0.674981  2.106091e+05   74134.134223      40.591728\n",
       "min      2020.000000  1.400000e+04   15000.000000       0.000000\n",
       "25%      2024.000000  1.060000e+05  106000.000000       0.000000\n",
       "50%      2025.000000  1.470000e+05  146100.000000       0.000000\n",
       "75%      2025.000000  1.990000e+05  198000.000000       0.000000\n",
       "max      2025.000000  3.040000e+07  800000.000000     100.000000"
      ]
     },
     "execution_count": 94,
     "metadata": {},
     "output_type": "execute_result"
    }
   ],
   "source": [
    "df.describe()"
   ]
  },
  {
   "cell_type": "code",
   "execution_count": 95,
   "id": "af215f33",
   "metadata": {},
   "outputs": [
    {
     "data": {
      "text/plain": [
       "0    160000\n",
       "Name: salary_in_usd, dtype: int64"
      ]
     },
     "execution_count": 95,
     "metadata": {},
     "output_type": "execute_result"
    }
   ],
   "source": [
    "df[\"salary_in_usd\"].mode()"
   ]
  },
  {
   "cell_type": "markdown",
   "id": "fa0c0708",
   "metadata": {},
   "source": [
    "### Right Skew with salary\n",
    "- mean > median > mode\n",
    "- 1.629267e+05 > \t1.470000e+05\t> 160000\n"
   ]
  },
  {
   "cell_type": "code",
   "execution_count": 96,
   "id": "434a5b74",
   "metadata": {},
   "outputs": [
    {
     "name": "stdout",
     "output_type": "stream",
     "text": [
      "162926.67171399677\n",
      "147000.0\n",
      "160000\n",
      "62.91550575749154\n"
     ]
    }
   ],
   "source": [
    "mean_val = np.mean(df[\"salary\"])\n",
    "median_val = np.median(df[\"salary\"])\n",
    "mode_val = mode(df[\"salary\"], keepdims=True).mode[0]\n",
    "skewness_val = skew(df[\"salary\"])\n",
    "\n",
    "print(mean_val)\n",
    "print(median_val)\n",
    "print(mode_val)\n",
    "print(skewness_val)"
   ]
  },
  {
   "cell_type": "code",
   "execution_count": 97,
   "id": "f8dcad69",
   "metadata": {},
   "outputs": [
    {
     "data": {
      "image/png": "[encoded data removed]",
      "text/plain": [
       "<Figure size 1000x600 with 1 Axes>"
      ]
     },
     "metadata": {},
     "output_type": "display_data"
    }
   ],
   "source": [
    "salaries=df[\"salary_in_usd\"].values\n",
    "plt.figure(figsize=(10, 6))\n",
    "plt.hist(salaries, bins=15, density=True, alpha=0.5, color=\"skyblue\", edgecolor=\"black\");\n",
    "density = gaussian_kde(salaries)\n",
    "xs = np.linspace(min(salaries), max(salaries), 200)\n",
    "plt.plot(xs, density(xs), color=\"red\", label=\"Density\")\n",
    "\n",
    "\n",
    "plt.axvline(mean_val, color='blue', linestyle='--', linewidth=2, label=f'Mean: {mean_val:.0f}')\n",
    "plt.axvline(median_val, color='green', linestyle='--', linewidth=2, label=f'Median: {median_val:.0f}')\n",
    "plt.axvline(mode_val, color='purple', linestyle='--', linewidth=2, label=f'Mode: {mode_val:.0f}')\n",
    "\n",
    "plt.title(\"Distribution salary(USD)\")\n",
    "plt.xlabel(\"salary(USD)\")\n",
    "plt.ylabel(\"frequency\")\n",
    "plt.legend()\n",
    "plt.grid(True)"
   ]
  },
  {
   "cell_type": "markdown",
   "id": "29150b9c",
   "metadata": {},
   "source": [
    "- Sử dụng logarit để dữ liệu cân bằng hơn"
   ]
  },
  {
   "cell_type": "code",
   "execution_count": 98,
   "id": "c1f4a797",
   "metadata": {},
   "outputs": [
    {
     "data": {
      "text/plain": [
       "Text(0, 0.5, 'frequency')"
      ]
     },
     "execution_count": 98,
     "metadata": {},
     "output_type": "execute_result"
    },
    {
     "data": {
      "image/png": "[encoded data removed]",
      "text/plain": [
       "<Figure size 640x480 with 1 Axes>"
      ]
     },
     "metadata": {},
     "output_type": "display_data"
    }
   ],
   "source": [
    "plt.Figure(figsize=(10,6))\n",
    "sns.histplot(np.log1p(salaries), kde=True, bins=50);\n",
    "plt.title(\"Log-Transformed Salary Distribution\")\n",
    "plt.xlabel(\"log(salary+1)\")\n",
    "plt.ylabel(\"frequency\")\n",
    "\n"
   ]
  },
  {
   "cell_type": "markdown",
   "id": "b7c676a8",
   "metadata": {},
   "source": [
    "### Salary trend"
   ]
  },
  {
   "cell_type": "code",
   "execution_count": 99,
   "id": "8e349fcf",
   "metadata": {},
   "outputs": [
    {
     "data": {
      "text/html": [
       "<div>\n",
       "<style scoped>\n",
       "    .dataframe tbody tr th:only-of-type {\n",
       "        vertical-align: middle;\n",
       "    }\n",
       "\n",
       "    .dataframe tbody tr th {\n",
       "        vertical-align: top;\n",
       "    }\n",
       "\n",
       "    .dataframe thead th {\n",
       "        text-align: right;\n",
       "    }\n",
       "</style>\n",
       "<table border=\"1\" class=\"dataframe\">\n",
       "  <thead>\n",
       "    <tr style=\"text-align: right;\">\n",
       "      <th></th>\n",
       "      <th>work_year</th>\n",
       "      <th>mean</th>\n",
       "      <th>median</th>\n",
       "      <th>std</th>\n",
       "    </tr>\n",
       "  </thead>\n",
       "  <tbody>\n",
       "    <tr>\n",
       "      <th>0</th>\n",
       "      <td>2020</td>\n",
       "      <td>102250.866667</td>\n",
       "      <td>79833.0</td>\n",
       "      <td>82722.309481</td>\n",
       "    </tr>\n",
       "    <tr>\n",
       "      <th>1</th>\n",
       "      <td>2021</td>\n",
       "      <td>99922.073394</td>\n",
       "      <td>83872.0</td>\n",
       "      <td>67072.030451</td>\n",
       "    </tr>\n",
       "    <tr>\n",
       "      <th>2</th>\n",
       "      <td>2022</td>\n",
       "      <td>134146.471403</td>\n",
       "      <td>131300.0</td>\n",
       "      <td>57769.407446</td>\n",
       "    </tr>\n",
       "    <tr>\n",
       "      <th>3</th>\n",
       "      <td>2023</td>\n",
       "      <td>153682.160371</td>\n",
       "      <td>145000.0</td>\n",
       "      <td>65393.134368</td>\n",
       "    </tr>\n",
       "    <tr>\n",
       "      <th>4</th>\n",
       "      <td>2024</td>\n",
       "      <td>159589.557767</td>\n",
       "      <td>148945.0</td>\n",
       "      <td>73585.575323</td>\n",
       "    </tr>\n",
       "    <tr>\n",
       "      <th>5</th>\n",
       "      <td>2025</td>\n",
       "      <td>156899.968844</td>\n",
       "      <td>145000.0</td>\n",
       "      <td>75665.093837</td>\n",
       "    </tr>\n",
       "  </tbody>\n",
       "</table>\n",
       "</div>"
      ],
      "text/plain": [
       "   work_year           mean    median           std\n",
       "0       2020  102250.866667   79833.0  82722.309481\n",
       "1       2021   99922.073394   83872.0  67072.030451\n",
       "2       2022  134146.471403  131300.0  57769.407446\n",
       "3       2023  153682.160371  145000.0  65393.134368\n",
       "4       2024  159589.557767  148945.0  73585.575323\n",
       "5       2025  156899.968844  145000.0  75665.093837"
      ]
     },
     "execution_count": 99,
     "metadata": {},
     "output_type": "execute_result"
    }
   ],
   "source": [
    "yearly_stats = df.groupby('work_year')['salary_in_usd'].agg(['mean', 'median', 'std']).reset_index()\n",
    "yearly_stats"
   ]
  },
  {
   "cell_type": "code",
   "execution_count": 100,
   "id": "779ca213",
   "metadata": {},
   "outputs": [
    {
     "data": {
      "application/vnd.plotly.v1+json": {
       "config": {
        "plotlyServerURL": "https://plot.ly"
       },
       "data": [
        {
         "hovertemplate": "Metric=mean<br>Year=%{x}<br>Salary (USD)=%{y}<extra></extra>",
         "legendgroup": "mean",
         "line": {
          "color": "#636efa",
          "dash": "solid"
         },
         "marker": {
          "symbol": "circle"
         },
         "mode": "lines",
         "name": "mean",
         "orientation": "v",
         "showlegend": true,
         "type": "scatter",
         "x": {
          "bdata": "5AflB+YH5wfoB+kH",
          "dtype": "i2"
         },
         "xaxis": "x",
         "y": {
          "bdata": "3t3d3a32+EDYtJ8sIWX4QK/QbsUTYABBZ3FwSJHCAkGUv052LHsDQVktMcAfJwNB",
          "dtype": "f8"
         },
         "yaxis": "y"
        },
        {
         "hovertemplate": "Metric=median<br>Year=%{x}<br>Salary (USD)=%{y}<extra></extra>",
         "legendgroup": "median",
         "line": {
          "color": "#EF553B",
          "dash": "solid"
         },
         "marker": {
          "symbol": "circle"
         },
         "mode": "lines",
         "name": "median",
         "orientation": "v",
         "showlegend": true,
         "type": "scatter",
         "x": {
          "bdata": "5AflB+YH5wfoB+kH",
          "dtype": "i2"
         },
         "xaxis": "x",
         "y": {
          "bdata": "AAAAAJB980AAAAAAAHr0QAAAAAAgBwBBAAAAAECzAUEAAAAAiC4CQQAAAABAswFB",
          "dtype": "f8"
         },
         "yaxis": "y"
        },
        {
         "fill": "toself",
         "fillcolor": "rgba(0,100,80,0.2)",
         "line": {
          "color": "rgba(255,255,255,0)"
         },
         "name": "Standard Deviation",
         "type": "scatter",
         "x": {
          "bdata": "5AflB+YH5wfoB+kH6QfoB+cH5gflB+QH",
          "dtype": "i2"
         },
         "y": {
          "bdata": "eh7AaGmUBkEdCa3UkGIEQZsK4gdfbQdBr/KfWxq+CkFosZEQuXYMQWDSXoCoYwxBpBAHAC7V80B/mxe4P//0QD7ggWoQjvVAhi33BZGl8kDsrspfQQrgQBz77agjEtNA",
          "dtype": "f8"
         }
        }
       ],
       "layout": {
        "height": 500,
        "hovermode": "x unified",
        "legend": {
         "title": {
          "text": ""
         },
         "tracegroupgap": 0
        },
        "template": {
         "data": {
          "bar": [
           {
            "error_x": {
             "color": "#2a3f5f"
            },
            "error_y": {
             "color": "#2a3f5f"
            },
            "marker": {
             "line": {
              "color": "white",
              "width": 0.5
             },
             "pattern": {
              "fillmode": "overlay",
              "size": 10,
              "solidity": 0.2
             }
            },
            "type": "bar"
           }
          ],
          "barpolar": [
           {
            "marker": {
             "line": {
              "color": "white",
              "width": 0.5
             },
             "pattern": {
              "fillmode": "overlay",
              "size": 10,
              "solidity": 0.2
             }
            },
            "type": "barpolar"
           }
          ],
          "carpet": [
           {
            "aaxis": {
             "endlinecolor": "#2a3f5f",
             "gridcolor": "#C8D4E3",
             "linecolor": "#C8D4E3",
             "minorgridcolor": "#C8D4E3",
             "startlinecolor": "#2a3f5f"
            },
            "baxis": {
             "endlinecolor": "#2a3f5f",
             "gridcolor": "#C8D4E3",
             "linecolor": "#C8D4E3",
             "minorgridcolor": "#C8D4E3",
             "startlinecolor": "#2a3f5f"
            },
            "type": "carpet"
           }
          ],
          "choropleth": [
           {
            "colorbar": {
             "outlinewidth": 0,
             "ticks": ""
            },
            "type": "choropleth"
           }
          ],
          "contour": [
           {
            "colorbar": {
             "outlinewidth": 0,
             "ticks": ""
            },
            "colorscale": [
             [
              0,
              "#0d0887"
             ],
             [
              0.1111111111111111,
              "#46039f"
             ],
             [
              0.2222222222222222,
              "#7201a8"
             ],
             [
              0.3333333333333333,
              "#9c179e"
             ],
             [
              0.4444444444444444,
              "#bd3786"
             ],
             [
              0.5555555555555556,
              "#d8576b"
             ],
             [
              0.6666666666666666,
              "#ed7953"
             ],
             [
              0.7777777777777778,
              "#fb9f3a"
             ],
             [
              0.8888888888888888,
              "#fdca26"
             ],
             [
              1,
              "#f0f921"
             ]
            ],
            "type": "contour"
           }
          ],
          "contourcarpet": [
           {
            "colorbar": {
             "outlinewidth": 0,
             "ticks": ""
            },
            "type": "contourcarpet"
           }
          ],
          "heatmap": [
           {
            "colorbar": {
             "outlinewidth": 0,
             "ticks": ""
            },
            "colorscale": [
             [
              0,
              "#0d0887"
             ],
             [
              0.1111111111111111,
              "#46039f"
             ],
             [
              0.2222222222222222,
              "#7201a8"
             ],
             [
              0.3333333333333333,
              "#9c179e"
             ],
             [
              0.4444444444444444,
              "#bd3786"
             ],
             [
              0.5555555555555556,
              "#d8576b"
             ],
             [
              0.6666666666666666,
              "#ed7953"
             ],
             [
              0.7777777777777778,
              "#fb9f3a"
             ],
             [
              0.8888888888888888,
              "#fdca26"
             ],
             [
              1,
              "#f0f921"
             ]
            ],
            "type": "heatmap"
           }
          ],
          "histogram": [
           {
            "marker": {
             "pattern": {
              "fillmode": "overlay",
              "size": 10,
              "solidity": 0.2
             }
            },
            "type": "histogram"
           }
          ],
          "histogram2d": [
           {
            "colorbar": {
             "outlinewidth": 0,
             "ticks": ""
            },
            "colorscale": [
             [
              0,
              "#0d0887"
             ],
             [
              0.1111111111111111,
              "#46039f"
             ],
             [
              0.2222222222222222,
              "#7201a8"
             ],
             [
              0.3333333333333333,
              "#9c179e"
             ],
             [
              0.4444444444444444,
              "#bd3786"
             ],
             [
              0.5555555555555556,
              "#d8576b"
             ],
             [
              0.6666666666666666,
              "#ed7953"
             ],
             [
              0.7777777777777778,
              "#fb9f3a"
             ],
             [
              0.8888888888888888,
              "#fdca26"
             ],
             [
              1,
              "#f0f921"
             ]
            ],
            "type": "histogram2d"
           }
          ],
          "histogram2dcontour": [
           {
            "colorbar": {
             "outlinewidth": 0,
             "ticks": ""
            },
            "colorscale": [
             [
              0,
              "#0d0887"
             ],
             [
              0.1111111111111111,
              "#46039f"
             ],
             [
              0.2222222222222222,
              "#7201a8"
             ],
             [
              0.3333333333333333,
              "#9c179e"
             ],
             [
              0.4444444444444444,
              "#bd3786"
             ],
             [
              0.5555555555555556,
              "#d8576b"
             ],
             [
              0.6666666666666666,
              "#ed7953"
             ],
             [
              0.7777777777777778,
              "#fb9f3a"
             ],
             [
              0.8888888888888888,
              "#fdca26"
             ],
             [
              1,
              "#f0f921"
             ]
            ],
            "type": "histogram2dcontour"
           }
          ],
          "mesh3d": [
           {
            "colorbar": {
             "outlinewidth": 0,
             "ticks": ""
            },
            "type": "mesh3d"
           }
          ],
          "parcoords": [
           {
            "line": {
             "colorbar": {
              "outlinewidth": 0,
              "ticks": ""
             }
            },
            "type": "parcoords"
           }
          ],
          "pie": [
           {
            "automargin": true,
            "type": "pie"
           }
          ],
          "scatter": [
           {
            "fillpattern": {
             "fillmode": "overlay",
             "size": 10,
             "solidity": 0.2
            },
            "type": "scatter"
           }
          ],
          "scatter3d": [
           {
            "line": {
             "colorbar": {
              "outlinewidth": 0,
              "ticks": ""
             }
            },
            "marker": {
             "colorbar": {
              "outlinewidth": 0,
              "ticks": ""
             }
            },
            "type": "scatter3d"
           }
          ],
          "scattercarpet": [
           {
            "marker": {
             "colorbar": {
              "outlinewidth": 0,
              "ticks": ""
             }
            },
            "type": "scattercarpet"
           }
          ],
          "scattergeo": [
           {
            "marker": {
             "colorbar": {
              "outlinewidth": 0,
              "ticks": ""
             }
            },
            "type": "scattergeo"
           }
          ],
          "scattergl": [
           {
            "marker": {
             "colorbar": {
              "outlinewidth": 0,
              "ticks": ""
             }
            },
            "type": "scattergl"
           }
          ],
          "scattermap": [
           {
            "marker": {
             "colorbar": {
              "outlinewidth": 0,
              "ticks": ""
             }
            },
            "type": "scattermap"
           }
          ],
          "scattermapbox": [
           {
            "marker": {
             "colorbar": {
              "outlinewidth": 0,
              "ticks": ""
             }
            },
            "type": "scattermapbox"
           }
          ],
          "scatterpolar": [
           {
            "marker": {
             "colorbar": {
              "outlinewidth": 0,
              "ticks": ""
             }
            },
            "type": "scatterpolar"
           }
          ],
          "scatterpolargl": [
           {
            "marker": {
             "colorbar": {
              "outlinewidth": 0,
              "ticks": ""
             }
            },
            "type": "scatterpolargl"
           }
          ],
          "scatterternary": [
           {
            "marker": {
             "colorbar": {
              "outlinewidth": 0,
              "ticks": ""
             }
            },
            "type": "scatterternary"
           }
          ],
          "surface": [
           {
            "colorbar": {
             "outlinewidth": 0,
             "ticks": ""
            },
            "colorscale": [
             [
              0,
              "#0d0887"
             ],
             [
              0.1111111111111111,
              "#46039f"
             ],
             [
              0.2222222222222222,
              "#7201a8"
             ],
             [
              0.3333333333333333,
              "#9c179e"
             ],
             [
              0.4444444444444444,
              "#bd3786"
             ],
             [
              0.5555555555555556,
              "#d8576b"
             ],
             [
              0.6666666666666666,
              "#ed7953"
             ],
             [
              0.7777777777777778,
              "#fb9f3a"
             ],
             [
              0.8888888888888888,
              "#fdca26"
             ],
             [
              1,
              "#f0f921"
             ]
            ],
            "type": "surface"
           }
          ],
          "table": [
           {
            "cells": {
             "fill": {
              "color": "#EBF0F8"
             },
             "line": {
              "color": "white"
             }
            },
            "header": {
             "fill": {
              "color": "#C8D4E3"
             },
             "line": {
              "color": "white"
             }
            },
            "type": "table"
           }
          ]
         },
         "layout": {
          "annotationdefaults": {
           "arrowcolor": "#2a3f5f",
           "arrowhead": 0,
           "arrowwidth": 1
          },
          "autotypenumbers": "strict",
          "coloraxis": {
           "colorbar": {
            "outlinewidth": 0,
            "ticks": ""
           }
          },
          "colorscale": {
           "diverging": [
            [
             0,
             "#8e0152"
            ],
            [
             0.1,
             "#c51b7d"
            ],
            [
             0.2,
             "#de77ae"
            ],
            [
             0.3,
             "#f1b6da"
            ],
            [
             0.4,
             "#fde0ef"
            ],
            [
             0.5,
             "#f7f7f7"
            ],
            [
             0.6,
             "#e6f5d0"
            ],
            [
             0.7,
             "#b8e186"
            ],
            [
             0.8,
             "#7fbc41"
            ],
            [
             0.9,
             "#4d9221"
            ],
            [
             1,
             "#276419"
            ]
           ],
           "sequential": [
            [
             0,
             "#0d0887"
            ],
            [
             0.1111111111111111,
             "#46039f"
            ],
            [
             0.2222222222222222,
             "#7201a8"
            ],
            [
             0.3333333333333333,
             "#9c179e"
            ],
            [
             0.4444444444444444,
             "#bd3786"
            ],
            [
             0.5555555555555556,
             "#d8576b"
            ],
            [
             0.6666666666666666,
             "#ed7953"
            ],
            [
             0.7777777777777778,
             "#fb9f3a"
            ],
            [
             0.8888888888888888,
             "#fdca26"
            ],
            [
             1,
             "#f0f921"
            ]
           ],
           "sequentialminus": [
            [
             0,
             "#0d0887"
            ],
            [
             0.1111111111111111,
             "#46039f"
            ],
            [
             0.2222222222222222,
             "#7201a8"
            ],
            [
             0.3333333333333333,
             "#9c179e"
            ],
            [
             0.4444444444444444,
             "#bd3786"
            ],
            [
             0.5555555555555556,
             "#d8576b"
            ],
            [
             0.6666666666666666,
             "#ed7953"
            ],
            [
             0.7777777777777778,
             "#fb9f3a"
            ],
            [
             0.8888888888888888,
             "#fdca26"
            ],
            [
             1,
             "#f0f921"
            ]
           ]
          },
          "colorway": [
           "#636efa",
           "#EF553B",
           "#00cc96",
           "#ab63fa",
           "#FFA15A",
           "#19d3f3",
           "#FF6692",
           "#B6E880",
           "#FF97FF",
           "#FECB52"
          ],
          "font": {
           "color": "#2a3f5f"
          },
          "geo": {
           "bgcolor": "white",
           "lakecolor": "white",
           "landcolor": "white",
           "showlakes": true,
           "showland": true,
           "subunitcolor": "#C8D4E3"
          },
          "hoverlabel": {
           "align": "left"
          },
          "hovermode": "closest",
          "mapbox": {
           "style": "light"
          },
          "paper_bgcolor": "white",
          "plot_bgcolor": "white",
          "polar": {
           "angularaxis": {
            "gridcolor": "#EBF0F8",
            "linecolor": "#EBF0F8",
            "ticks": ""
           },
           "bgcolor": "white",
           "radialaxis": {
            "gridcolor": "#EBF0F8",
            "linecolor": "#EBF0F8",
            "ticks": ""
           }
          },
          "scene": {
           "xaxis": {
            "backgroundcolor": "white",
            "gridcolor": "#DFE8F3",
            "gridwidth": 2,
            "linecolor": "#EBF0F8",
            "showbackground": true,
            "ticks": "",
            "zerolinecolor": "#EBF0F8"
           },
           "yaxis": {
            "backgroundcolor": "white",
            "gridcolor": "#DFE8F3",
            "gridwidth": 2,
            "linecolor": "#EBF0F8",
            "showbackground": true,
            "ticks": "",
            "zerolinecolor": "#EBF0F8"
           },
           "zaxis": {
            "backgroundcolor": "white",
            "gridcolor": "#DFE8F3",
            "gridwidth": 2,
            "linecolor": "#EBF0F8",
            "showbackground": true,
            "ticks": "",
            "zerolinecolor": "#EBF0F8"
           }
          },
          "shapedefaults": {
           "line": {
            "color": "#2a3f5f"
           }
          },
          "ternary": {
           "aaxis": {
            "gridcolor": "#DFE8F3",
            "linecolor": "#A2B1C6",
            "ticks": ""
           },
           "baxis": {
            "gridcolor": "#DFE8F3",
            "linecolor": "#A2B1C6",
            "ticks": ""
           },
           "bgcolor": "white",
           "caxis": {
            "gridcolor": "#DFE8F3",
            "linecolor": "#A2B1C6",
            "ticks": ""
           }
          },
          "title": {
           "x": 0.05
          },
          "xaxis": {
           "automargin": true,
           "gridcolor": "#EBF0F8",
           "linecolor": "#EBF0F8",
           "ticks": "",
           "title": {
            "standoff": 15
           },
           "zerolinecolor": "#EBF0F8",
           "zerolinewidth": 2
          },
          "yaxis": {
           "automargin": true,
           "gridcolor": "#EBF0F8",
           "linecolor": "#EBF0F8",
           "ticks": "",
           "title": {
            "standoff": 15
           },
           "zerolinecolor": "#EBF0F8",
           "zerolinewidth": 2
          }
         }
        },
        "title": {
         "text": "Salary trend 2020-2025"
        },
        "width": 900,
        "xaxis": {
         "anchor": "y",
         "domain": [
          0,
          1
         ],
         "title": {
          "text": "Year"
         }
        },
        "yaxis": {
         "anchor": "x",
         "domain": [
          0,
          1
         ],
         "title": {
          "text": "Salary (USD)"
         }
        }
       }
      }
     },
     "metadata": {},
     "output_type": "display_data"
    }
   ],
   "source": [
    "fig=px.line(yearly_stats,x=\"work_year\",y=[\"mean\",\"median\"],\n",
    "            title=\"Salary trend 2020-2025\",\n",
    "            labels={'value': 'Salary (USD)', 'work_year': 'Year', 'variable': 'Metric'},\n",
    "            template='plotly_white')\n",
    "\n",
    "fig.update_layout(legend_title_text='', hovermode='x unified',\n",
    "                 width=900, height=500)\n",
    "\n",
    "\n",
    "fig.add_trace(go.Scatter(\n",
    "    x=np.concatenate([yearly_stats['work_year'], yearly_stats['work_year'][::-1]]),\n",
    "    y=np.concatenate([yearly_stats['mean'] + yearly_stats['std'], \n",
    "                    (yearly_stats['mean'] - yearly_stats['std'])[::-1]]),\n",
    "    fill='toself',\n",
    "    fillcolor='rgba(0,100,80,0.2)',\n",
    "    line=dict(color='rgba(255,255,255,0)'),\n",
    "    name='Standard Deviation'\n",
    "))\n",
    "\n",
    "fig.show()\n"
   ]
  },
  {
   "cell_type": "markdown",
   "id": "7b87f275",
   "metadata": {},
   "source": [
    "* Có thể thấy rằng xu hướng lương đang dần mở rộng"
   ]
  },
  {
   "cell_type": "markdown",
   "id": "4bbd909b",
   "metadata": {},
   "source": [
    "### Experience level "
   ]
  },
  {
   "cell_type": "code",
   "execution_count": 101,
   "id": "53e9583d",
   "metadata": {},
   "outputs": [
    {
     "data": {
      "image/png": "[encoded data removed]",
      "text/plain": [
       "<Figure size 1200x600 with 1 Axes>"
      ]
     },
     "metadata": {},
     "output_type": "display_data"
    }
   ],
   "source": [
    "plt.figure(figsize=(12, 6))\n",
    "sns.boxplot(x='experience_level', y='salary_in_usd', data=df, order=['EN', 'MI', 'SE', 'EX'],color=\"lightblue\")\n",
    "plt.title('Salary Distribution by Experience Level', fontsize=16)\n",
    "plt.xlabel('Experience Level', fontsize=12)\n",
    "plt.ylabel('Salary (USD)', fontsize=12)\n",
    "plt.xticks(ticks=[0, 1, 2, 3], labels=['Entry-level', 'Mid-level', 'Senior', 'Executive'])\n",
    "\n",
    "\n",
    "\n",
    "\n",
    "plt.show()"
   ]
  },
  {
   "cell_type": "markdown",
   "id": "0a123f8c",
   "metadata": {},
   "source": [
    "* Kinh nghiệm càng nhiều lương càng cao\n",
    "* Vị trí điều hành kiếm được nhiều hơn đáng kể so với các vị trí khác"
   ]
  },
  {
   "cell_type": "code",
   "execution_count": 102,
   "id": "42d3b0ee",
   "metadata": {},
   "outputs": [
    {
     "data": {
      "text/html": [
       "<div>\n",
       "<style scoped>\n",
       "    .dataframe tbody tr th:only-of-type {\n",
       "        vertical-align: middle;\n",
       "    }\n",
       "\n",
       "    .dataframe tbody tr th {\n",
       "        vertical-align: top;\n",
       "    }\n",
       "\n",
       "    .dataframe thead th {\n",
       "        text-align: right;\n",
       "    }\n",
       "</style>\n",
       "<table border=\"1\" class=\"dataframe\">\n",
       "  <thead>\n",
       "    <tr style=\"text-align: right;\">\n",
       "      <th></th>\n",
       "      <th>work_year</th>\n",
       "      <th>experience_level</th>\n",
       "      <th>salary_in_usd</th>\n",
       "    </tr>\n",
       "  </thead>\n",
       "  <tbody>\n",
       "    <tr>\n",
       "      <th>0</th>\n",
       "      <td>2020</td>\n",
       "      <td>Entry-level</td>\n",
       "      <td>69840.666667</td>\n",
       "    </tr>\n",
       "    <tr>\n",
       "      <th>1</th>\n",
       "      <td>2020</td>\n",
       "      <td>Executive</td>\n",
       "      <td>179958.250000</td>\n",
       "    </tr>\n",
       "    <tr>\n",
       "      <th>2</th>\n",
       "      <td>2020</td>\n",
       "      <td>Mid-level</td>\n",
       "      <td>91870.935484</td>\n",
       "    </tr>\n",
       "    <tr>\n",
       "      <th>3</th>\n",
       "      <td>2020</td>\n",
       "      <td>Senior</td>\n",
       "      <td>138648.894737</td>\n",
       "    </tr>\n",
       "    <tr>\n",
       "      <th>4</th>\n",
       "      <td>2021</td>\n",
       "      <td>Entry-level</td>\n",
       "      <td>63463.065217</td>\n",
       "    </tr>\n",
       "    <tr>\n",
       "      <th>5</th>\n",
       "      <td>2021</td>\n",
       "      <td>Executive</td>\n",
       "      <td>186128.000000</td>\n",
       "    </tr>\n",
       "    <tr>\n",
       "      <th>6</th>\n",
       "      <td>2021</td>\n",
       "      <td>Mid-level</td>\n",
       "      <td>86818.390805</td>\n",
       "    </tr>\n",
       "    <tr>\n",
       "      <th>7</th>\n",
       "      <td>2021</td>\n",
       "      <td>Senior</td>\n",
       "      <td>125989.746667</td>\n",
       "    </tr>\n",
       "    <tr>\n",
       "      <th>8</th>\n",
       "      <td>2022</td>\n",
       "      <td>Entry-level</td>\n",
       "      <td>79464.085470</td>\n",
       "    </tr>\n",
       "    <tr>\n",
       "      <th>9</th>\n",
       "      <td>2022</td>\n",
       "      <td>Executive</td>\n",
       "      <td>184738.093023</td>\n",
       "    </tr>\n",
       "    <tr>\n",
       "      <th>10</th>\n",
       "      <td>2022</td>\n",
       "      <td>Mid-level</td>\n",
       "      <td>102745.576602</td>\n",
       "    </tr>\n",
       "    <tr>\n",
       "      <th>11</th>\n",
       "      <td>2022</td>\n",
       "      <td>Senior</td>\n",
       "      <td>147715.053415</td>\n",
       "    </tr>\n",
       "    <tr>\n",
       "      <th>12</th>\n",
       "      <td>2023</td>\n",
       "      <td>Entry-level</td>\n",
       "      <td>90914.768240</td>\n",
       "    </tr>\n",
       "    <tr>\n",
       "      <th>13</th>\n",
       "      <td>2023</td>\n",
       "      <td>Executive</td>\n",
       "      <td>190692.975410</td>\n",
       "    </tr>\n",
       "    <tr>\n",
       "      <th>14</th>\n",
       "      <td>2023</td>\n",
       "      <td>Mid-level</td>\n",
       "      <td>123773.658125</td>\n",
       "    </tr>\n",
       "    <tr>\n",
       "      <th>15</th>\n",
       "      <td>2023</td>\n",
       "      <td>Senior</td>\n",
       "      <td>165421.026078</td>\n",
       "    </tr>\n",
       "    <tr>\n",
       "      <th>16</th>\n",
       "      <td>2024</td>\n",
       "      <td>Entry-level</td>\n",
       "      <td>103413.483751</td>\n",
       "    </tr>\n",
       "    <tr>\n",
       "      <th>17</th>\n",
       "      <td>2024</td>\n",
       "      <td>Executive</td>\n",
       "      <td>201624.672544</td>\n",
       "    </tr>\n",
       "    <tr>\n",
       "      <th>18</th>\n",
       "      <td>2024</td>\n",
       "      <td>Mid-level</td>\n",
       "      <td>145668.401710</td>\n",
       "    </tr>\n",
       "    <tr>\n",
       "      <th>19</th>\n",
       "      <td>2024</td>\n",
       "      <td>Senior</td>\n",
       "      <td>175703.482041</td>\n",
       "    </tr>\n",
       "    <tr>\n",
       "      <th>20</th>\n",
       "      <td>2025</td>\n",
       "      <td>Entry-level</td>\n",
       "      <td>95979.086865</td>\n",
       "    </tr>\n",
       "    <tr>\n",
       "      <th>21</th>\n",
       "      <td>2025</td>\n",
       "      <td>Executive</td>\n",
       "      <td>204121.719517</td>\n",
       "    </tr>\n",
       "    <tr>\n",
       "      <th>22</th>\n",
       "      <td>2025</td>\n",
       "      <td>Mid-level</td>\n",
       "      <td>142244.192443</td>\n",
       "    </tr>\n",
       "    <tr>\n",
       "      <th>23</th>\n",
       "      <td>2025</td>\n",
       "      <td>Senior</td>\n",
       "      <td>171825.245791</td>\n",
       "    </tr>\n",
       "  </tbody>\n",
       "</table>\n",
       "</div>"
      ],
      "text/plain": [
       "    work_year experience_level  salary_in_usd\n",
       "0        2020      Entry-level   69840.666667\n",
       "1        2020        Executive  179958.250000\n",
       "2        2020        Mid-level   91870.935484\n",
       "3        2020           Senior  138648.894737\n",
       "4        2021      Entry-level   63463.065217\n",
       "5        2021        Executive  186128.000000\n",
       "6        2021        Mid-level   86818.390805\n",
       "7        2021           Senior  125989.746667\n",
       "8        2022      Entry-level   79464.085470\n",
       "9        2022        Executive  184738.093023\n",
       "10       2022        Mid-level  102745.576602\n",
       "11       2022           Senior  147715.053415\n",
       "12       2023      Entry-level   90914.768240\n",
       "13       2023        Executive  190692.975410\n",
       "14       2023        Mid-level  123773.658125\n",
       "15       2023           Senior  165421.026078\n",
       "16       2024      Entry-level  103413.483751\n",
       "17       2024        Executive  201624.672544\n",
       "18       2024        Mid-level  145668.401710\n",
       "19       2024           Senior  175703.482041\n",
       "20       2025      Entry-level   95979.086865\n",
       "21       2025        Executive  204121.719517\n",
       "22       2025        Mid-level  142244.192443\n",
       "23       2025           Senior  171825.245791"
      ]
     },
     "execution_count": 102,
     "metadata": {},
     "output_type": "execute_result"
    }
   ],
   "source": [
    "exp_time = df.groupby(['work_year', 'experience_level'])['salary_in_usd'].mean().reset_index()\n",
    "exp_time['experience_level'] = exp_time['experience_level'].replace({\n",
    "    'EN': 'Entry-level', 'MI': 'Mid-level', 'SE': 'Senior', 'EX': 'Executive'\n",
    "})\n",
    "exp_time"
   ]
  },
  {
   "cell_type": "code",
   "execution_count": 103,
   "id": "8309e3e0",
   "metadata": {},
   "outputs": [
    {
     "data": {
      "application/vnd.plotly.v1+json": {
       "config": {
        "plotlyServerURL": "https://plot.ly"
       },
       "data": [
        {
         "hovertemplate": "experience_level=Entry-level<br>Year=%{x}<br>Average Salary (USD)=%{y}<extra></extra>",
         "legendgroup": "Entry-level",
         "line": {
          "color": "#636efa",
          "dash": "solid"
         },
         "marker": {
          "symbol": "circle"
         },
         "mode": "lines",
         "name": "Entry-level",
         "orientation": "v",
         "showlegend": true,
         "type": "scatter",
         "x": {
          "bdata": "5AflB+YH5wfoB+kH",
          "dtype": "i2"
         },
         "xaxis": "x",
         "y": {
          "bdata": "q6qqqgoN8UBZyEIW4vzuQF7hFV6BZvNA4mK2Siwy9kAZs3G9Vz/5QGlEzGOxbvdA",
          "dtype": "f8"
         },
         "yaxis": "y"
        },
        {
         "hovertemplate": "experience_level=Executive<br>Year=%{x}<br>Average Salary (USD)=%{y}<extra></extra>",
         "legendgroup": "Executive",
         "line": {
          "color": "#EF553B",
          "dash": "solid"
         },
         "marker": {
          "symbol": "circle"
         },
         "mode": "lines",
         "name": "Executive",
         "orientation": "v",
         "showlegend": true,
         "type": "scatter",
         "x": {
          "bdata": "5AflB+YH5wfoB+kH",
          "dtype": "i2"
         },
         "xaxis": "x",
         "y": {
          "bdata": "AAAAALL3BUEAAAAAgLgGQQz6gr4QjQZBEayjzSdHB0F7yl5hxZwIQVBdksHN6ghB",
          "dtype": "f8"
         },
         "yaxis": "y"
        },
        {
         "hovertemplate": "experience_level=Mid-level<br>Year=%{x}<br>Average Salary (USD)=%{y}<extra></extra>",
         "legendgroup": "Mid-level",
         "line": {
          "color": "#00cc96",
          "dash": "solid"
         },
         "marker": {
          "symbol": "circle"
         },
         "mode": "lines",
         "name": "Mid-level",
         "orientation": "v",
         "showlegend": true,
         "type": "scatter",
         "x": {
          "bdata": "5AflB+YH5wfoB+kH",
          "dtype": "i2"
         },
         "xaxis": "x",
         "y": {
          "bdata": "fO+99+5t9kBkUrxAJjL1QJGswjmZFflAxbKth9o3/kDxpbM2I8gBQdO8H4ohXQFB",
          "dtype": "f8"
         },
         "yaxis": "y"
        },
        {
         "hovertemplate": "experience_level=Senior<br>Year=%{x}<br>Average Salary (USD)=%{y}<extra></extra>",
         "legendgroup": "Senior",
         "line": {
          "color": "#ab63fa",
          "dash": "solid"
         },
         "marker": {
          "symbol": "circle"
         },
         "mode": "lines",
         "name": "Senior",
         "orientation": "v",
         "showlegend": true,
         "type": "scatter",
         "x": {
          "bdata": "5AflB+YH5wfoB+kH",
          "dtype": "i2"
         },
         "xaxis": "x",
         "y": {
          "bdata": "G8prKMfsAEEmv1jyW8L+QCvgZG0YCAJBfpdoNWgxBEGkczjbu3IFQdBbYfeJ+QRB",
          "dtype": "f8"
         },
         "yaxis": "y"
        }
       ],
       "layout": {
        "height": 500,
        "hovermode": "x unified",
        "legend": {
         "title": {
          "text": "experience_level"
         },
         "tracegroupgap": 0
        },
        "template": {
         "data": {
          "bar": [
           {
            "error_x": {
             "color": "#2a3f5f"
            },
            "error_y": {
             "color": "#2a3f5f"
            },
            "marker": {
             "line": {
              "color": "white",
              "width": 0.5
             },
             "pattern": {
              "fillmode": "overlay",
              "size": 10,
              "solidity": 0.2
             }
            },
            "type": "bar"
           }
          ],
          "barpolar": [
           {
            "marker": {
             "line": {
              "color": "white",
              "width": 0.5
             },
             "pattern": {
              "fillmode": "overlay",
              "size": 10,
              "solidity": 0.2
             }
            },
            "type": "barpolar"
           }
          ],
          "carpet": [
           {
            "aaxis": {
             "endlinecolor": "#2a3f5f",
             "gridcolor": "#C8D4E3",
             "linecolor": "#C8D4E3",
             "minorgridcolor": "#C8D4E3",
             "startlinecolor": "#2a3f5f"
            },
            "baxis": {
             "endlinecolor": "#2a3f5f",
             "gridcolor": "#C8D4E3",
             "linecolor": "#C8D4E3",
             "minorgridcolor": "#C8D4E3",
             "startlinecolor": "#2a3f5f"
            },
            "type": "carpet"
           }
          ],
          "choropleth": [
           {
            "colorbar": {
             "outlinewidth": 0,
             "ticks": ""
            },
            "type": "choropleth"
           }
          ],
          "contour": [
           {
            "colorbar": {
             "outlinewidth": 0,
             "ticks": ""
            },
            "colorscale": [
             [
              0,
              "#0d0887"
             ],
             [
              0.1111111111111111,
              "#46039f"
             ],
             [
              0.2222222222222222,
              "#7201a8"
             ],
             [
              0.3333333333333333,
              "#9c179e"
             ],
             [
              0.4444444444444444,
              "#bd3786"
             ],
             [
              0.5555555555555556,
              "#d8576b"
             ],
             [
              0.6666666666666666,
              "#ed7953"
             ],
             [
              0.7777777777777778,
              "#fb9f3a"
             ],
             [
              0.8888888888888888,
              "#fdca26"
             ],
             [
              1,
              "#f0f921"
             ]
            ],
            "type": "contour"
           }
          ],
          "contourcarpet": [
           {
            "colorbar": {
             "outlinewidth": 0,
             "ticks": ""
            },
            "type": "contourcarpet"
           }
          ],
          "heatmap": [
           {
            "colorbar": {
             "outlinewidth": 0,
             "ticks": ""
            },
            "colorscale": [
             [
              0,
              "#0d0887"
             ],
             [
              0.1111111111111111,
              "#46039f"
             ],
             [
              0.2222222222222222,
              "#7201a8"
             ],
             [
              0.3333333333333333,
              "#9c179e"
             ],
             [
              0.4444444444444444,
              "#bd3786"
             ],
             [
              0.5555555555555556,
              "#d8576b"
             ],
             [
              0.6666666666666666,
              "#ed7953"
             ],
             [
              0.7777777777777778,
              "#fb9f3a"
             ],
             [
              0.8888888888888888,
              "#fdca26"
             ],
             [
              1,
              "#f0f921"
             ]
            ],
            "type": "heatmap"
           }
          ],
          "histogram": [
           {
            "marker": {
             "pattern": {
              "fillmode": "overlay",
              "size": 10,
              "solidity": 0.2
             }
            },
            "type": "histogram"
           }
          ],
          "histogram2d": [
           {
            "colorbar": {
             "outlinewidth": 0,
             "ticks": ""
            },
            "colorscale": [
             [
              0,
              "#0d0887"
             ],
             [
              0.1111111111111111,
              "#46039f"
             ],
             [
              0.2222222222222222,
              "#7201a8"
             ],
             [
              0.3333333333333333,
              "#9c179e"
             ],
             [
              0.4444444444444444,
              "#bd3786"
             ],
             [
              0.5555555555555556,
              "#d8576b"
             ],
             [
              0.6666666666666666,
              "#ed7953"
             ],
             [
              0.7777777777777778,
              "#fb9f3a"
             ],
             [
              0.8888888888888888,
              "#fdca26"
             ],
             [
              1,
              "#f0f921"
             ]
            ],
            "type": "histogram2d"
           }
          ],
          "histogram2dcontour": [
           {
            "colorbar": {
             "outlinewidth": 0,
             "ticks": ""
            },
            "colorscale": [
             [
              0,
              "#0d0887"
             ],
             [
              0.1111111111111111,
              "#46039f"
             ],
             [
              0.2222222222222222,
              "#7201a8"
             ],
             [
              0.3333333333333333,
              "#9c179e"
             ],
             [
              0.4444444444444444,
              "#bd3786"
             ],
             [
              0.5555555555555556,
              "#d8576b"
             ],
             [
              0.6666666666666666,
              "#ed7953"
             ],
             [
              0.7777777777777778,
              "#fb9f3a"
             ],
             [
              0.8888888888888888,
              "#fdca26"
             ],
             [
              1,
              "#f0f921"
             ]
            ],
            "type": "histogram2dcontour"
           }
          ],
          "mesh3d": [
           {
            "colorbar": {
             "outlinewidth": 0,
             "ticks": ""
            },
            "type": "mesh3d"
           }
          ],
          "parcoords": [
           {
            "line": {
             "colorbar": {
              "outlinewidth": 0,
              "ticks": ""
             }
            },
            "type": "parcoords"
           }
          ],
          "pie": [
           {
            "automargin": true,
            "type": "pie"
           }
          ],
          "scatter": [
           {
            "fillpattern": {
             "fillmode": "overlay",
             "size": 10,
             "solidity": 0.2
            },
            "type": "scatter"
           }
          ],
          "scatter3d": [
           {
            "line": {
             "colorbar": {
              "outlinewidth": 0,
              "ticks": ""
             }
            },
            "marker": {
             "colorbar": {
              "outlinewidth": 0,
              "ticks": ""
             }
            },
            "type": "scatter3d"
           }
          ],
          "scattercarpet": [
           {
            "marker": {
             "colorbar": {
              "outlinewidth": 0,
              "ticks": ""
             }
            },
            "type": "scattercarpet"
           }
          ],
          "scattergeo": [
           {
            "marker": {
             "colorbar": {
              "outlinewidth": 0,
              "ticks": ""
             }
            },
            "type": "scattergeo"
           }
          ],
          "scattergl": [
           {
            "marker": {
             "colorbar": {
              "outlinewidth": 0,
              "ticks": ""
             }
            },
            "type": "scattergl"
           }
          ],
          "scattermap": [
           {
            "marker": {
             "colorbar": {
              "outlinewidth": 0,
              "ticks": ""
             }
            },
            "type": "scattermap"
           }
          ],
          "scattermapbox": [
           {
            "marker": {
             "colorbar": {
              "outlinewidth": 0,
              "ticks": ""
             }
            },
            "type": "scattermapbox"
           }
          ],
          "scatterpolar": [
           {
            "marker": {
             "colorbar": {
              "outlinewidth": 0,
              "ticks": ""
             }
            },
            "type": "scatterpolar"
           }
          ],
          "scatterpolargl": [
           {
            "marker": {
             "colorbar": {
              "outlinewidth": 0,
              "ticks": ""
             }
            },
            "type": "scatterpolargl"
           }
          ],
          "scatterternary": [
           {
            "marker": {
             "colorbar": {
              "outlinewidth": 0,
              "ticks": ""
             }
            },
            "type": "scatterternary"
           }
          ],
          "surface": [
           {
            "colorbar": {
             "outlinewidth": 0,
             "ticks": ""
            },
            "colorscale": [
             [
              0,
              "#0d0887"
             ],
             [
              0.1111111111111111,
              "#46039f"
             ],
             [
              0.2222222222222222,
              "#7201a8"
             ],
             [
              0.3333333333333333,
              "#9c179e"
             ],
             [
              0.4444444444444444,
              "#bd3786"
             ],
             [
              0.5555555555555556,
              "#d8576b"
             ],
             [
              0.6666666666666666,
              "#ed7953"
             ],
             [
              0.7777777777777778,
              "#fb9f3a"
             ],
             [
              0.8888888888888888,
              "#fdca26"
             ],
             [
              1,
              "#f0f921"
             ]
            ],
            "type": "surface"
           }
          ],
          "table": [
           {
            "cells": {
             "fill": {
              "color": "#EBF0F8"
             },
             "line": {
              "color": "white"
             }
            },
            "header": {
             "fill": {
              "color": "#C8D4E3"
             },
             "line": {
              "color": "white"
             }
            },
            "type": "table"
           }
          ]
         },
         "layout": {
          "annotationdefaults": {
           "arrowcolor": "#2a3f5f",
           "arrowhead": 0,
           "arrowwidth": 1
          },
          "autotypenumbers": "strict",
          "coloraxis": {
           "colorbar": {
            "outlinewidth": 0,
            "ticks": ""
           }
          },
          "colorscale": {
           "diverging": [
            [
             0,
             "#8e0152"
            ],
            [
             0.1,
             "#c51b7d"
            ],
            [
             0.2,
             "#de77ae"
            ],
            [
             0.3,
             "#f1b6da"
            ],
            [
             0.4,
             "#fde0ef"
            ],
            [
             0.5,
             "#f7f7f7"
            ],
            [
             0.6,
             "#e6f5d0"
            ],
            [
             0.7,
             "#b8e186"
            ],
            [
             0.8,
             "#7fbc41"
            ],
            [
             0.9,
             "#4d9221"
            ],
            [
             1,
             "#276419"
            ]
           ],
           "sequential": [
            [
             0,
             "#0d0887"
            ],
            [
             0.1111111111111111,
             "#46039f"
            ],
            [
             0.2222222222222222,
             "#7201a8"
            ],
            [
             0.3333333333333333,
             "#9c179e"
            ],
            [
             0.4444444444444444,
             "#bd3786"
            ],
            [
             0.5555555555555556,
             "#d8576b"
            ],
            [
             0.6666666666666666,
             "#ed7953"
            ],
            [
             0.7777777777777778,
             "#fb9f3a"
            ],
            [
             0.8888888888888888,
             "#fdca26"
            ],
            [
             1,
             "#f0f921"
            ]
           ],
           "sequentialminus": [
            [
             0,
             "#0d0887"
            ],
            [
             0.1111111111111111,
             "#46039f"
            ],
            [
             0.2222222222222222,
             "#7201a8"
            ],
            [
             0.3333333333333333,
             "#9c179e"
            ],
            [
             0.4444444444444444,
             "#bd3786"
            ],
            [
             0.5555555555555556,
             "#d8576b"
            ],
            [
             0.6666666666666666,
             "#ed7953"
            ],
            [
             0.7777777777777778,
             "#fb9f3a"
            ],
            [
             0.8888888888888888,
             "#fdca26"
            ],
            [
             1,
             "#f0f921"
            ]
           ]
          },
          "colorway": [
           "#636efa",
           "#EF553B",
           "#00cc96",
           "#ab63fa",
           "#FFA15A",
           "#19d3f3",
           "#FF6692",
           "#B6E880",
           "#FF97FF",
           "#FECB52"
          ],
          "font": {
           "color": "#2a3f5f"
          },
          "geo": {
           "bgcolor": "white",
           "lakecolor": "white",
           "landcolor": "white",
           "showlakes": true,
           "showland": true,
           "subunitcolor": "#C8D4E3"
          },
          "hoverlabel": {
           "align": "left"
          },
          "hovermode": "closest",
          "mapbox": {
           "style": "light"
          },
          "paper_bgcolor": "white",
          "plot_bgcolor": "white",
          "polar": {
           "angularaxis": {
            "gridcolor": "#EBF0F8",
            "linecolor": "#EBF0F8",
            "ticks": ""
           },
           "bgcolor": "white",
           "radialaxis": {
            "gridcolor": "#EBF0F8",
            "linecolor": "#EBF0F8",
            "ticks": ""
           }
          },
          "scene": {
           "xaxis": {
            "backgroundcolor": "white",
            "gridcolor": "#DFE8F3",
            "gridwidth": 2,
            "linecolor": "#EBF0F8",
            "showbackground": true,
            "ticks": "",
            "zerolinecolor": "#EBF0F8"
           },
           "yaxis": {
            "backgroundcolor": "white",
            "gridcolor": "#DFE8F3",
            "gridwidth": 2,
            "linecolor": "#EBF0F8",
            "showbackground": true,
            "ticks": "",
            "zerolinecolor": "#EBF0F8"
           },
           "zaxis": {
            "backgroundcolor": "white",
            "gridcolor": "#DFE8F3",
            "gridwidth": 2,
            "linecolor": "#EBF0F8",
            "showbackground": true,
            "ticks": "",
            "zerolinecolor": "#EBF0F8"
           }
          },
          "shapedefaults": {
           "line": {
            "color": "#2a3f5f"
           }
          },
          "ternary": {
           "aaxis": {
            "gridcolor": "#DFE8F3",
            "linecolor": "#A2B1C6",
            "ticks": ""
           },
           "baxis": {
            "gridcolor": "#DFE8F3",
            "linecolor": "#A2B1C6",
            "ticks": ""
           },
           "bgcolor": "white",
           "caxis": {
            "gridcolor": "#DFE8F3",
            "linecolor": "#A2B1C6",
            "ticks": ""
           }
          },
          "title": {
           "x": 0.05
          },
          "xaxis": {
           "automargin": true,
           "gridcolor": "#EBF0F8",
           "linecolor": "#EBF0F8",
           "ticks": "",
           "title": {
            "standoff": 15
           },
           "zerolinecolor": "#EBF0F8",
           "zerolinewidth": 2
          },
          "yaxis": {
           "automargin": true,
           "gridcolor": "#EBF0F8",
           "linecolor": "#EBF0F8",
           "ticks": "",
           "title": {
            "standoff": 15
           },
           "zerolinecolor": "#EBF0F8",
           "zerolinewidth": 2
          }
         }
        },
        "title": {
         "text": "Salary Trends by Experience Level (2020-2025)"
        },
        "width": 900,
        "xaxis": {
         "anchor": "y",
         "domain": [
          0,
          1
         ],
         "title": {
          "text": "Year"
         }
        },
        "yaxis": {
         "anchor": "x",
         "domain": [
          0,
          1
         ],
         "title": {
          "text": "Average Salary (USD)"
         }
        }
       }
      }
     },
     "metadata": {},
     "output_type": "display_data"
    }
   ],
   "source": [
    "fig = px.line(exp_time, x='work_year', y='salary_in_usd', color='experience_level',\n",
    "             title='Salary Trends by Experience Level (2020-2025)',\n",
    "             labels={'salary_in_usd': 'Average Salary (USD)', 'work_year': 'Year'},\n",
    "             template='plotly_white')\n",
    "\n",
    "fig.update_layout(width=900, height=500, hovermode='x unified')"
   ]
  },
  {
   "cell_type": "markdown",
   "id": "48cb89c0",
   "metadata": {},
   "source": [
    "### Geographical Analysis"
   ]
  },
  {
   "cell_type": "code",
   "execution_count": 104,
   "id": "ca4583f0",
   "metadata": {},
   "outputs": [],
   "source": [
    "country_dict = {\n",
    "    'AD': 'Andorra',\n",
    "    'AE': 'United Arab Emirates',\n",
    "    'AM': 'Armenia',\n",
    "    'AR': 'Argentina',\n",
    "    'AS': 'American Samoa',\n",
    "    'AT': 'Austria',\n",
    "    'AU': 'Australia',\n",
    "    'BA': 'Bosnia and Herzegovina',\n",
    "    'BE': 'Belgium',\n",
    "    'BG': 'Bulgaria',\n",
    "    'BM': 'Bermuda',\n",
    "    'BO': 'Bolivia',\n",
    "    'BR': 'Brazil',\n",
    "    'CA': 'Canada',\n",
    "    'CD': 'Democratic Republic of the Congo',\n",
    "    'CF': 'Central African Republic',\n",
    "    'CH': 'Switzerland',\n",
    "    'CL': 'Chile',\n",
    "    'CN': 'China',\n",
    "    'CO': 'Colombia',\n",
    "    'CR': 'Costa Rica',\n",
    "    'CY': 'Cyprus',\n",
    "    'CZ': 'Czech Republic',\n",
    "    'DE': 'Germany',\n",
    "    'DK': 'Denmark',\n",
    "    'DO': 'Dominican Republic',\n",
    "    'DZ': 'Algeria',\n",
    "    'EC': 'Ecuador',\n",
    "    'EE': 'Estonia',\n",
    "    'EG': 'Egypt',\n",
    "    'ES': 'Spain',\n",
    "    'FI': 'Finland',\n",
    "    'FR': 'France',\n",
    "    'GB': 'United Kingdom',\n",
    "    'GE': 'Georgia',\n",
    "    'GH': 'Ghana',\n",
    "    'GR': 'Greece',\n",
    "    'GT': 'Guatemala',\n",
    "    'HK': 'Hong Kong',\n",
    "    'HN': 'Honduras',\n",
    "    'HR': 'Croatia',\n",
    "    'HU': 'Hungary',\n",
    "    'ID': 'Indonesia',\n",
    "    'IE': 'Ireland',\n",
    "    'IL': 'Israel',\n",
    "    'IN': 'India',\n",
    "    'IQ': 'Iraq',\n",
    "    'IR': 'Iran',\n",
    "    'IT': 'Italy',\n",
    "    'JE': 'Jersey',\n",
    "    'JM': 'Jamaica',\n",
    "    'JO': 'Jordan',\n",
    "    'JP': 'Japan',\n",
    "    'KE': 'Kenya',\n",
    "    'KR': 'South Korea',\n",
    "    'KW': 'Kuwait',\n",
    "    'LB': 'Lebanon',\n",
    "    'LS': 'Lesotho',\n",
    "    'LT': 'Lithuania',\n",
    "    'LU': 'Luxembourg',\n",
    "    'LV': 'Latvia',\n",
    "    'MD': 'Moldova',\n",
    "    'MK': 'North Macedonia',\n",
    "    'ML': 'Mali',\n",
    "    'MT': 'Malta',\n",
    "    'MU': 'Mauritius',\n",
    "    'MX': 'Mexico',\n",
    "    'MY': 'Malaysia',\n",
    "    'NG': 'Nigeria',\n",
    "    'NL': 'Netherlands',\n",
    "    'NO': 'Norway',\n",
    "    'NZ': 'New Zealand',\n",
    "    'OM': 'Oman',\n",
    "    'PA': 'Panama',\n",
    "    'PE': 'Peru',\n",
    "    'PH': 'Philippines',\n",
    "    'PK': 'Pakistan',\n",
    "    'PL': 'Poland',\n",
    "    'PR': 'Puerto Rico',\n",
    "    'PT': 'Portugal',\n",
    "    'QA': 'Qatar',\n",
    "    'RO': 'Romania',\n",
    "    'RS': 'Serbia',\n",
    "    'RU': 'Russia',\n",
    "    'RW': 'Rwanda',\n",
    "    'SA': 'Saudi Arabia',\n",
    "    'SE': 'Sweden',\n",
    "    'SG': 'Singapore',\n",
    "    'SI': 'Slovenia',\n",
    "    'SK': 'Slovakia',\n",
    "    'SV': 'El Salvador',\n",
    "    'TH': 'Thailand',\n",
    "    'TN': 'Tunisia',\n",
    "    'TR': 'Turkey',\n",
    "    'TW': 'Taiwan',\n",
    "    'UA': 'Ukraine',\n",
    "    'UG': 'Uganda',\n",
    "    'US': 'United States',\n",
    "    'UZ': 'Uzbekistan',\n",
    "    'VE': 'Venezuela',\n",
    "    'VN': 'Vietnam',\n",
    "    'XK': 'Kosovo',\n",
    "    'ZA': 'South Africa',\n",
    "    'ZM': 'Zambia'\n",
    "}\n",
    "\n",
    "data=df.groupby(\"employee_residence\")[\"salary_in_usd\"].mean().reset_index()\n",
    "data[\"country_name\"]=data[\"employee_residence\"].map(country_dict)"
   ]
  },
  {
   "cell_type": "code",
   "execution_count": 105,
   "id": "4f9d0b04",
   "metadata": {},
   "outputs": [
    {
     "data": {
      "text/html": [
       "<div>\n",
       "<style scoped>\n",
       "    .dataframe tbody tr th:only-of-type {\n",
       "        vertical-align: middle;\n",
       "    }\n",
       "\n",
       "    .dataframe tbody tr th {\n",
       "        vertical-align: top;\n",
       "    }\n",
       "\n",
       "    .dataframe thead th {\n",
       "        text-align: right;\n",
       "    }\n",
       "</style>\n",
       "<table border=\"1\" class=\"dataframe\">\n",
       "  <thead>\n",
       "    <tr style=\"text-align: right;\">\n",
       "      <th></th>\n",
       "      <th>employee_residence</th>\n",
       "      <th>salary_in_usd</th>\n",
       "      <th>country_name</th>\n",
       "    </tr>\n",
       "  </thead>\n",
       "  <tbody>\n",
       "    <tr>\n",
       "      <th>0</th>\n",
       "      <td>AD</td>\n",
       "      <td>50745.000000</td>\n",
       "      <td>Andorra</td>\n",
       "    </tr>\n",
       "    <tr>\n",
       "      <th>1</th>\n",
       "      <td>AE</td>\n",
       "      <td>88333.333333</td>\n",
       "      <td>United Arab Emirates</td>\n",
       "    </tr>\n",
       "    <tr>\n",
       "      <th>2</th>\n",
       "      <td>AM</td>\n",
       "      <td>45453.200000</td>\n",
       "      <td>Armenia</td>\n",
       "    </tr>\n",
       "    <tr>\n",
       "      <th>3</th>\n",
       "      <td>AR</td>\n",
       "      <td>76551.325581</td>\n",
       "      <td>Argentina</td>\n",
       "    </tr>\n",
       "    <tr>\n",
       "      <th>4</th>\n",
       "      <td>AS</td>\n",
       "      <td>45555.000000</td>\n",
       "      <td>American Samoa</td>\n",
       "    </tr>\n",
       "    <tr>\n",
       "      <th>...</th>\n",
       "      <td>...</td>\n",
       "      <td>...</td>\n",
       "      <td>...</td>\n",
       "    </tr>\n",
       "    <tr>\n",
       "      <th>99</th>\n",
       "      <td>VE</td>\n",
       "      <td>192500.000000</td>\n",
       "      <td>Venezuela</td>\n",
       "    </tr>\n",
       "    <tr>\n",
       "      <th>100</th>\n",
       "      <td>VN</td>\n",
       "      <td>57200.000000</td>\n",
       "      <td>Vietnam</td>\n",
       "    </tr>\n",
       "    <tr>\n",
       "      <th>101</th>\n",
       "      <td>XK</td>\n",
       "      <td>41052.000000</td>\n",
       "      <td>Kosovo</td>\n",
       "    </tr>\n",
       "    <tr>\n",
       "      <th>102</th>\n",
       "      <td>ZA</td>\n",
       "      <td>65859.647887</td>\n",
       "      <td>South Africa</td>\n",
       "    </tr>\n",
       "    <tr>\n",
       "      <th>103</th>\n",
       "      <td>ZM</td>\n",
       "      <td>60000.000000</td>\n",
       "      <td>Zambia</td>\n",
       "    </tr>\n",
       "  </tbody>\n",
       "</table>\n",
       "<p>104 rows × 3 columns</p>\n",
       "</div>"
      ],
      "text/plain": [
       "    employee_residence  salary_in_usd          country_name\n",
       "0                   AD   50745.000000               Andorra\n",
       "1                   AE   88333.333333  United Arab Emirates\n",
       "2                   AM   45453.200000               Armenia\n",
       "3                   AR   76551.325581             Argentina\n",
       "4                   AS   45555.000000        American Samoa\n",
       "..                 ...            ...                   ...\n",
       "99                  VE  192500.000000             Venezuela\n",
       "100                 VN   57200.000000               Vietnam\n",
       "101                 XK   41052.000000                Kosovo\n",
       "102                 ZA   65859.647887          South Africa\n",
       "103                 ZM   60000.000000                Zambia\n",
       "\n",
       "[104 rows x 3 columns]"
      ]
     },
     "execution_count": 105,
     "metadata": {},
     "output_type": "execute_result"
    }
   ],
   "source": [
    "data"
   ]
  },
  {
   "cell_type": "code",
   "execution_count": 106,
   "id": "a666086d",
   "metadata": {},
   "outputs": [
    {
     "data": {
      "application/vnd.plotly.v1+json": {
       "config": {
        "plotlyServerURL": "https://plot.ly"
       },
       "data": [
        {
         "coloraxis": "coloraxis",
         "customdata": [
          [
           "AD",
           50745
          ],
          [
           "AE",
           88333.33333333333
          ],
          [
           "AM",
           45453.2
          ],
          [
           "AR",
           76551.32558139534
          ],
          [
           "AS",
           45555
          ],
          [
           "AT",
           58722.27826086956
          ],
          [
           "AU",
           128959.64653641208
          ],
          [
           "BA",
           75000
          ],
          [
           "BE",
           115184.13513513513
          ],
          [
           "BG",
           107499.83333333333
          ],
          [
           "BM",
           100000
          ],
          [
           "BO",
           75000
          ],
          [
           "BR",
           68560.32456140351
          ],
          [
           "CA",
           129453.31730284177
          ],
          [
           "CD",
           275000
          ],
          [
           "CF",
           49216
          ],
          [
           "CH",
           119616.98412698413
          ],
          [
           "CL",
           63537.65217391304
          ],
          [
           "CN",
           125404
          ],
          [
           "CO",
           59835.64444444444
          ],
          [
           "CR",
           36888.88888888889
          ],
          [
           "CY",
           51448.882352941175
          ],
          [
           "CZ",
           107481.3
          ],
          [
           "DE",
           104409.92271662764
          ],
          [
           "DK",
           78534.77777777778
          ],
          [
           "DO",
           34333.333333333336
          ],
          [
           "DZ",
           48070
          ],
          [
           "EC",
           24666.666666666668
          ],
          [
           "EE",
           54916.76190476191
          ],
          [
           "EG",
           113986.73076923077
          ],
          [
           "ES",
           64573.346534653465
          ],
          [
           "FI",
           69428.39240506329
          ],
          [
           "FR",
           69868.41527446301
          ],
          [
           "GB",
           95455.83481481482
          ],
          [
           "GE",
           53500
          ],
          [
           "GH",
           34250
          ],
          [
           "GR",
           56585.63636363636
          ],
          [
           "GT",
           24000
          ],
          [
           "HK",
           125048.16666666667
          ],
          [
           "HN",
           59333.333333333336
          ],
          [
           "HR",
           68089.66666666667
          ],
          [
           "HU",
           24816.4
          ],
          [
           "ID",
           62358
          ],
          [
           "IE",
           114291.52777777778
          ],
          [
           "IL",
           147321.73333333334
          ],
          [
           "IN",
           56043.024
          ],
          [
           "IQ",
           100000
          ],
          [
           "IR",
           100000
          ],
          [
           "IT",
           82793.45945945945
          ],
          [
           "JE",
           100000
          ],
          [
           "JM",
           39398
          ],
          [
           "JO",
           101850.66666666667
          ],
          [
           "JP",
           92906.08823529411
          ],
          [
           "KE",
           61285.71428571428
          ],
          [
           "KR",
           88477.66666666667
          ],
          [
           "KW",
           50000
          ],
          [
           "LB",
           128833.33333333333
          ],
          [
           "LS",
           75657.5
          ],
          [
           "LT",
           59836.20718232044
          ],
          [
           "LU",
           74538
          ],
          [
           "LV",
           46002.372881355936
          ],
          [
           "MD",
           66500
          ],
          [
           "MK",
           61092
          ],
          [
           "ML",
           59000
          ],
          [
           "MT",
           76227.58823529411
          ],
          [
           "MU",
           100000
          ],
          [
           "MX",
           81636.81818181818
          ],
          [
           "MY",
           89115.5
          ],
          [
           "NG",
           55642.857142857145
          ],
          [
           "NL",
           78757.4635193133
          ],
          [
           "NO",
           86105.5
          ],
          [
           "NZ",
           117125.225
          ],
          [
           "OM",
           46848
          ],
          [
           "PA",
           89976
          ],
          [
           "PE",
           56040
          ],
          [
           "PH",
           34172.191780821915
          ],
          [
           "PK",
           43031
          ],
          [
           "PL",
           76745.1204819277
          ],
          [
           "PR",
           120646.15384615384
          ],
          [
           "PT",
           55949.76136363636
          ],
          [
           "QA",
           300000
          ],
          [
           "RO",
           61973.769230769234
          ],
          [
           "RS",
           69150
          ],
          [
           "RU",
           79242.5
          ],
          [
           "RW",
           80000
          ],
          [
           "SA",
           139999.33333333334
          ],
          [
           "SE",
           101471.58333333333
          ],
          [
           "SG",
           121900.30952380953
          ],
          [
           "SI",
           56170.88888888889
          ],
          [
           "SK",
           35934.768907563026
          ],
          [
           "SV",
           25714.285714285714
          ],
          [
           "TH",
           29382.8
          ],
          [
           "TN",
           90234.5
          ],
          [
           "TR",
           65939.79310344828
          ],
          [
           "TW",
           27920.058823529413
          ],
          [
           "UA",
           100148.9
          ],
          [
           "UG",
           36000
          ],
          [
           "US",
           163903.15306613318
          ],
          [
           "UZ",
           82000
          ],
          [
           "VE",
           192500
          ],
          [
           "VN",
           57200
          ],
          [
           "XK",
           41052
          ],
          [
           "ZA",
           65859.64788732394
          ],
          [
           "ZM",
           60000
          ]
         ],
         "geo": "geo",
         "hovertemplate": "<b>%{hovertext}</b><br><br>country_name=%{location}<br>employee_residence=%{customdata[0]}<br>Average Adjusted Salary=%{z:,.0f}<extra></extra>",
         "hovertext": [
          "Andorra",
          "United Arab Emirates",
          "Armenia",
          "Argentina",
          "American Samoa",
          "Austria",
          "Australia",
          "Bosnia and Herzegovina",
          "Belgium",
          "Bulgaria",
          "Bermuda",
          "Bolivia",
          "Brazil",
          "Canada",
          "Democratic Republic of the Congo",
          "Central African Republic",
          "Switzerland",
          "Chile",
          "China",
          "Colombia",
          "Costa Rica",
          "Cyprus",
          "Czech Republic",
          "Germany",
          "Denmark",
          "Dominican Republic",
          "Algeria",
          "Ecuador",
          "Estonia",
          "Egypt",
          "Spain",
          "Finland",
          "France",
          "United Kingdom",
          "Georgia",
          "Ghana",
          "Greece",
          "Guatemala",
          "Hong Kong",
          "Honduras",
          "Croatia",
          "Hungary",
          "Indonesia",
          "Ireland",
          "Israel",
          "India",
          "Iraq",
          "Iran",
          "Italy",
          "Jersey",
          "Jamaica",
          "Jordan",
          "Japan",
          "Kenya",
          "South Korea",
          "Kuwait",
          "Lebanon",
          "Lesotho",
          "Lithuania",
          "Luxembourg",
          "Latvia",
          "Moldova",
          "North Macedonia",
          "Mali",
          "Malta",
          "Mauritius",
          "Mexico",
          "Malaysia",
          "Nigeria",
          "Netherlands",
          "Norway",
          "New Zealand",
          "Oman",
          "Panama",
          "Peru",
          "Philippines",
          "Pakistan",
          "Poland",
          "Puerto Rico",
          "Portugal",
          "Qatar",
          "Romania",
          "Serbia",
          "Russia",
          "Rwanda",
          "Saudi Arabia",
          "Sweden",
          "Singapore",
          "Slovenia",
          "Slovakia",
          "El Salvador",
          "Thailand",
          "Tunisia",
          "Turkey",
          "Taiwan",
          "Ukraine",
          "Uganda",
          "United States",
          "Uzbekistan",
          "Venezuela",
          "Vietnam",
          "Kosovo",
          "South Africa",
          "Zambia"
         ],
         "locationmode": "country names",
         "locations": [
          "Andorra",
          "United Arab Emirates",
          "Armenia",
          "Argentina",
          "American Samoa",
          "Austria",
          "Australia",
          "Bosnia and Herzegovina",
          "Belgium",
          "Bulgaria",
          "Bermuda",
          "Bolivia",
          "Brazil",
          "Canada",
          "Democratic Republic of the Congo",
          "Central African Republic",
          "Switzerland",
          "Chile",
          "China",
          "Colombia",
          "Costa Rica",
          "Cyprus",
          "Czech Republic",
          "Germany",
          "Denmark",
          "Dominican Republic",
          "Algeria",
          "Ecuador",
          "Estonia",
          "Egypt",
          "Spain",
          "Finland",
          "France",
          "United Kingdom",
          "Georgia",
          "Ghana",
          "Greece",
          "Guatemala",
          "Hong Kong",
          "Honduras",
          "Croatia",
          "Hungary",
          "Indonesia",
          "Ireland",
          "Israel",
          "India",
          "Iraq",
          "Iran",
          "Italy",
          "Jersey",
          "Jamaica",
          "Jordan",
          "Japan",
          "Kenya",
          "South Korea",
          "Kuwait",
          "Lebanon",
          "Lesotho",
          "Lithuania",
          "Luxembourg",
          "Latvia",
          "Moldova",
          "North Macedonia",
          "Mali",
          "Malta",
          "Mauritius",
          "Mexico",
          "Malaysia",
          "Nigeria",
          "Netherlands",
          "Norway",
          "New Zealand",
          "Oman",
          "Panama",
          "Peru",
          "Philippines",
          "Pakistan",
          "Poland",
          "Puerto Rico",
          "Portugal",
          "Qatar",
          "Romania",
          "Serbia",
          "Russia",
          "Rwanda",
          "Saudi Arabia",
          "Sweden",
          "Singapore",
          "Slovenia",
          "Slovakia",
          "El Salvador",
          "Thailand",
          "Tunisia",
          "Turkey",
          "Taiwan",
          "Ukraine",
          "Uganda",
          "United States",
          "Uzbekistan",
          "Venezuela",
          "Vietnam",
          "Kosovo",
          "South Africa",
          "Zambia"
         ],
         "name": "",
         "type": "choropleth",
         "z": {
          "bdata": "AAAAACDH6EBVVVVV1ZD1QGZmZmamMeZAU9aUNXWw8kAAAAAAYD7mQNFWg+dIrOxAmZA2WPp7/0AAAAAAgE/yQJ91gykCH/xAVVVVVb0++kAAAAAAAGr4QAAAAACAT/JAWkxnMQW98EAFJawT1Zr/QAAAAADgyBBBAAAAAAAI6EC/7/u+DzT9QHrTm940Bu9AAAAAAMCd/kCf9EmfdDftQHIcx3EcA+JAPDw8PBwf6UDNzMzMlD36QLOCcsOefflAchzHcWws80CrqqqqqsPgQAAAAADAeOdAq6qqqqoW2EBiGIZhmNDqQLETO7Er1PtActfPFquH70AaiEpHRvPwQNjV9qTGDvFAfsdmW/1N90AAAAAAgB/qQAAAAABAueBA0UUXXTSh60AAAAAAAHDXQKuqqqqCh/5Aq6qqqqr47ECrqqqqmp/wQJqZmZkZPNhAAAAAAMBy7kByHMdxOOf7QN7d3d3N+wFB46WbxGBd60AAAAAAAGr4QAAAAAAAavhAgynyWZc29EAAAAAAAGr4QAAAAADAPONAq6qqqqrd+EBpaWlpoa72QNu2bdu27O1Aq6qqqtqZ9UAAAAAAAGroQFVVVVUVdP9AAAAAAJh48kBT0TyhhjftQAAAAACgMvJAoeGk7kt25kAAAAAAQDzwQAAAAACA1O1AAAAAAADP7EBpaWlpOZzyQAAAAAAAavhAdNFFF03u80AAAAAAuMH1QG7btm1bK+tAOzqTalc680AAAAAAmAX1QJqZmZlTmPxAAAAAAADg5kAAAAAAgPf1QAAAAAAAXetAxIgRI4av4EAAAAAA4ALlQDR1fu2RvPJAdmIndmJ0/UDRRRdduFHrQAAAAACATxJBntiJnbhC7kAAAAAA4OHwQAAAAACoWPNAAAAAAACI80Crqqqq+hYBQVVVVVX5xfhA9DzP88TC/UByHMdxXG3rQJsI5JrYi+FASZIkSZIc2UAzMzMzs7HcQAAAAACoB/ZAyz2NsDwZ8EDEw8PDA0TbQGZmZmZOc/hAAAAAAACU4UChvHo5+QEEQQAAAAAABfRAAAAAAKB/B0EAAAAAAO7rQAAAAACAC+RAPRm/XToU8EAAAAAAAEztQA==",
          "dtype": "f8"
         }
        }
       ],
       "layout": {
        "coloraxis": {
         "colorbar": {
          "title": {
           "text": "Average Adjusted Salary"
          }
         },
         "colorscale": [
          [
           0,
           "#0d0887"
          ],
          [
           0.1111111111111111,
           "#46039f"
          ],
          [
           0.2222222222222222,
           "#7201a8"
          ],
          [
           0.3333333333333333,
           "#9c179e"
          ],
          [
           0.4444444444444444,
           "#bd3786"
          ],
          [
           0.5555555555555556,
           "#d8576b"
          ],
          [
           0.6666666666666666,
           "#ed7953"
          ],
          [
           0.7777777777777778,
           "#fb9f3a"
          ],
          [
           0.8888888888888888,
           "#fdca26"
          ],
          [
           1,
           "#f0f921"
          ]
         ]
        },
        "geo": {
         "center": {},
         "domain": {
          "x": [
           0,
           1
          ],
          "y": [
           0,
           1
          ]
         },
         "projection": {
          "type": "natural earth"
         }
        },
        "height": 600,
        "legend": {
         "tracegroupgap": 0
        },
        "template": {
         "data": {
          "bar": [
           {
            "error_x": {
             "color": "#2a3f5f"
            },
            "error_y": {
             "color": "#2a3f5f"
            },
            "marker": {
             "line": {
              "color": "#E5ECF6",
              "width": 0.5
             },
             "pattern": {
              "fillmode": "overlay",
              "size": 10,
              "solidity": 0.2
             }
            },
            "type": "bar"
           }
          ],
          "barpolar": [
           {
            "marker": {
             "line": {
              "color": "#E5ECF6",
              "width": 0.5
             },
             "pattern": {
              "fillmode": "overlay",
              "size": 10,
              "solidity": 0.2
             }
            },
            "type": "barpolar"
           }
          ],
          "carpet": [
           {
            "aaxis": {
             "endlinecolor": "#2a3f5f",
             "gridcolor": "white",
             "linecolor": "white",
             "minorgridcolor": "white",
             "startlinecolor": "#2a3f5f"
            },
            "baxis": {
             "endlinecolor": "#2a3f5f",
             "gridcolor": "white",
             "linecolor": "white",
             "minorgridcolor": "white",
             "startlinecolor": "#2a3f5f"
            },
            "type": "carpet"
           }
          ],
          "choropleth": [
           {
            "colorbar": {
             "outlinewidth": 0,
             "ticks": ""
            },
            "type": "choropleth"
           }
          ],
          "contour": [
           {
            "colorbar": {
             "outlinewidth": 0,
             "ticks": ""
            },
            "colorscale": [
             [
              0,
              "#0d0887"
             ],
             [
              0.1111111111111111,
              "#46039f"
             ],
             [
              0.2222222222222222,
              "#7201a8"
             ],
             [
              0.3333333333333333,
              "#9c179e"
             ],
             [
              0.4444444444444444,
              "#bd3786"
             ],
             [
              0.5555555555555556,
              "#d8576b"
             ],
             [
              0.6666666666666666,
              "#ed7953"
             ],
             [
              0.7777777777777778,
              "#fb9f3a"
             ],
             [
              0.8888888888888888,
              "#fdca26"
             ],
             [
              1,
              "#f0f921"
             ]
            ],
            "type": "contour"
           }
          ],
          "contourcarpet": [
           {
            "colorbar": {
             "outlinewidth": 0,
             "ticks": ""
            },
            "type": "contourcarpet"
           }
          ],
          "heatmap": [
           {
            "colorbar": {
             "outlinewidth": 0,
             "ticks": ""
            },
            "colorscale": [
             [
              0,
              "#0d0887"
             ],
             [
              0.1111111111111111,
              "#46039f"
             ],
             [
              0.2222222222222222,
              "#7201a8"
             ],
             [
              0.3333333333333333,
              "#9c179e"
             ],
             [
              0.4444444444444444,
              "#bd3786"
             ],
             [
              0.5555555555555556,
              "#d8576b"
             ],
             [
              0.6666666666666666,
              "#ed7953"
             ],
             [
              0.7777777777777778,
              "#fb9f3a"
             ],
             [
              0.8888888888888888,
              "#fdca26"
             ],
             [
              1,
              "#f0f921"
             ]
            ],
            "type": "heatmap"
           }
          ],
          "histogram": [
           {
            "marker": {
             "pattern": {
              "fillmode": "overlay",
              "size": 10,
              "solidity": 0.2
             }
            },
            "type": "histogram"
           }
          ],
          "histogram2d": [
           {
            "colorbar": {
             "outlinewidth": 0,
             "ticks": ""
            },
            "colorscale": [
             [
              0,
              "#0d0887"
             ],
             [
              0.1111111111111111,
              "#46039f"
             ],
             [
              0.2222222222222222,
              "#7201a8"
             ],
             [
              0.3333333333333333,
              "#9c179e"
             ],
             [
              0.4444444444444444,
              "#bd3786"
             ],
             [
              0.5555555555555556,
              "#d8576b"
             ],
             [
              0.6666666666666666,
              "#ed7953"
             ],
             [
              0.7777777777777778,
              "#fb9f3a"
             ],
             [
              0.8888888888888888,
              "#fdca26"
             ],
             [
              1,
              "#f0f921"
             ]
            ],
            "type": "histogram2d"
           }
          ],
          "histogram2dcontour": [
           {
            "colorbar": {
             "outlinewidth": 0,
             "ticks": ""
            },
            "colorscale": [
             [
              0,
              "#0d0887"
             ],
             [
              0.1111111111111111,
              "#46039f"
             ],
             [
              0.2222222222222222,
              "#7201a8"
             ],
             [
              0.3333333333333333,
              "#9c179e"
             ],
             [
              0.4444444444444444,
              "#bd3786"
             ],
             [
              0.5555555555555556,
              "#d8576b"
             ],
             [
              0.6666666666666666,
              "#ed7953"
             ],
             [
              0.7777777777777778,
              "#fb9f3a"
             ],
             [
              0.8888888888888888,
              "#fdca26"
             ],
             [
              1,
              "#f0f921"
             ]
            ],
            "type": "histogram2dcontour"
           }
          ],
          "mesh3d": [
           {
            "colorbar": {
             "outlinewidth": 0,
             "ticks": ""
            },
            "type": "mesh3d"
           }
          ],
          "parcoords": [
           {
            "line": {
             "colorbar": {
              "outlinewidth": 0,
              "ticks": ""
             }
            },
            "type": "parcoords"
           }
          ],
          "pie": [
           {
            "automargin": true,
            "type": "pie"
           }
          ],
          "scatter": [
           {
            "fillpattern": {
             "fillmode": "overlay",
             "size": 10,
             "solidity": 0.2
            },
            "type": "scatter"
           }
          ],
          "scatter3d": [
           {
            "line": {
             "colorbar": {
              "outlinewidth": 0,
              "ticks": ""
             }
            },
            "marker": {
             "colorbar": {
              "outlinewidth": 0,
              "ticks": ""
             }
            },
            "type": "scatter3d"
           }
          ],
          "scattercarpet": [
           {
            "marker": {
             "colorbar": {
              "outlinewidth": 0,
              "ticks": ""
             }
            },
            "type": "scattercarpet"
           }
          ],
          "scattergeo": [
           {
            "marker": {
             "colorbar": {
              "outlinewidth": 0,
              "ticks": ""
             }
            },
            "type": "scattergeo"
           }
          ],
          "scattergl": [
           {
            "marker": {
             "colorbar": {
              "outlinewidth": 0,
              "ticks": ""
             }
            },
            "type": "scattergl"
           }
          ],
          "scattermap": [
           {
            "marker": {
             "colorbar": {
              "outlinewidth": 0,
              "ticks": ""
             }
            },
            "type": "scattermap"
           }
          ],
          "scattermapbox": [
           {
            "marker": {
             "colorbar": {
              "outlinewidth": 0,
              "ticks": ""
             }
            },
            "type": "scattermapbox"
           }
          ],
          "scatterpolar": [
           {
            "marker": {
             "colorbar": {
              "outlinewidth": 0,
              "ticks": ""
             }
            },
            "type": "scatterpolar"
           }
          ],
          "scatterpolargl": [
           {
            "marker": {
             "colorbar": {
              "outlinewidth": 0,
              "ticks": ""
             }
            },
            "type": "scatterpolargl"
           }
          ],
          "scatterternary": [
           {
            "marker": {
             "colorbar": {
              "outlinewidth": 0,
              "ticks": ""
             }
            },
            "type": "scatterternary"
           }
          ],
          "surface": [
           {
            "colorbar": {
             "outlinewidth": 0,
             "ticks": ""
            },
            "colorscale": [
             [
              0,
              "#0d0887"
             ],
             [
              0.1111111111111111,
              "#46039f"
             ],
             [
              0.2222222222222222,
              "#7201a8"
             ],
             [
              0.3333333333333333,
              "#9c179e"
             ],
             [
              0.4444444444444444,
              "#bd3786"
             ],
             [
              0.5555555555555556,
              "#d8576b"
             ],
             [
              0.6666666666666666,
              "#ed7953"
             ],
             [
              0.7777777777777778,
              "#fb9f3a"
             ],
             [
              0.8888888888888888,
              "#fdca26"
             ],
             [
              1,
              "#f0f921"
             ]
            ],
            "type": "surface"
           }
          ],
          "table": [
           {
            "cells": {
             "fill": {
              "color": "#EBF0F8"
             },
             "line": {
              "color": "white"
             }
            },
            "header": {
             "fill": {
              "color": "#C8D4E3"
             },
             "line": {
              "color": "white"
             }
            },
            "type": "table"
           }
          ]
         },
         "layout": {
          "annotationdefaults": {
           "arrowcolor": "#2a3f5f",
           "arrowhead": 0,
           "arrowwidth": 1
          },
          "autotypenumbers": "strict",
          "coloraxis": {
           "colorbar": {
            "outlinewidth": 0,
            "ticks": ""
           }
          },
          "colorscale": {
           "diverging": [
            [
             0,
             "#8e0152"
            ],
            [
             0.1,
             "#c51b7d"
            ],
            [
             0.2,
             "#de77ae"
            ],
            [
             0.3,
             "#f1b6da"
            ],
            [
             0.4,
             "#fde0ef"
            ],
            [
             0.5,
             "#f7f7f7"
            ],
            [
             0.6,
             "#e6f5d0"
            ],
            [
             0.7,
             "#b8e186"
            ],
            [
             0.8,
             "#7fbc41"
            ],
            [
             0.9,
             "#4d9221"
            ],
            [
             1,
             "#276419"
            ]
           ],
           "sequential": [
            [
             0,
             "#0d0887"
            ],
            [
             0.1111111111111111,
             "#46039f"
            ],
            [
             0.2222222222222222,
             "#7201a8"
            ],
            [
             0.3333333333333333,
             "#9c179e"
            ],
            [
             0.4444444444444444,
             "#bd3786"
            ],
            [
             0.5555555555555556,
             "#d8576b"
            ],
            [
             0.6666666666666666,
             "#ed7953"
            ],
            [
             0.7777777777777778,
             "#fb9f3a"
            ],
            [
             0.8888888888888888,
             "#fdca26"
            ],
            [
             1,
             "#f0f921"
            ]
           ],
           "sequentialminus": [
            [
             0,
             "#0d0887"
            ],
            [
             0.1111111111111111,
             "#46039f"
            ],
            [
             0.2222222222222222,
             "#7201a8"
            ],
            [
             0.3333333333333333,
             "#9c179e"
            ],
            [
             0.4444444444444444,
             "#bd3786"
            ],
            [
             0.5555555555555556,
             "#d8576b"
            ],
            [
             0.6666666666666666,
             "#ed7953"
            ],
            [
             0.7777777777777778,
             "#fb9f3a"
            ],
            [
             0.8888888888888888,
             "#fdca26"
            ],
            [
             1,
             "#f0f921"
            ]
           ]
          },
          "colorway": [
           "#636efa",
           "#EF553B",
           "#00cc96",
           "#ab63fa",
           "#FFA15A",
           "#19d3f3",
           "#FF6692",
           "#B6E880",
           "#FF97FF",
           "#FECB52"
          ],
          "font": {
           "color": "#2a3f5f"
          },
          "geo": {
           "bgcolor": "white",
           "lakecolor": "white",
           "landcolor": "#E5ECF6",
           "showlakes": true,
           "showland": true,
           "subunitcolor": "white"
          },
          "hoverlabel": {
           "align": "left"
          },
          "hovermode": "closest",
          "mapbox": {
           "style": "light"
          },
          "paper_bgcolor": "white",
          "plot_bgcolor": "#E5ECF6",
          "polar": {
           "angularaxis": {
            "gridcolor": "white",
            "linecolor": "white",
            "ticks": ""
           },
           "bgcolor": "#E5ECF6",
           "radialaxis": {
            "gridcolor": "white",
            "linecolor": "white",
            "ticks": ""
           }
          },
          "scene": {
           "xaxis": {
            "backgroundcolor": "#E5ECF6",
            "gridcolor": "white",
            "gridwidth": 2,
            "linecolor": "white",
            "showbackground": true,
            "ticks": "",
            "zerolinecolor": "white"
           },
           "yaxis": {
            "backgroundcolor": "#E5ECF6",
            "gridcolor": "white",
            "gridwidth": 2,
            "linecolor": "white",
            "showbackground": true,
            "ticks": "",
            "zerolinecolor": "white"
           },
           "zaxis": {
            "backgroundcolor": "#E5ECF6",
            "gridcolor": "white",
            "gridwidth": 2,
            "linecolor": "white",
            "showbackground": true,
            "ticks": "",
            "zerolinecolor": "white"
           }
          },
          "shapedefaults": {
           "line": {
            "color": "#2a3f5f"
           }
          },
          "ternary": {
           "aaxis": {
            "gridcolor": "white",
            "linecolor": "white",
            "ticks": ""
           },
           "baxis": {
            "gridcolor": "white",
            "linecolor": "white",
            "ticks": ""
           },
           "bgcolor": "#E5ECF6",
           "caxis": {
            "gridcolor": "white",
            "linecolor": "white",
            "ticks": ""
           }
          },
          "title": {
           "x": 0.05
          },
          "xaxis": {
           "automargin": true,
           "gridcolor": "white",
           "linecolor": "white",
           "ticks": "",
           "title": {
            "standoff": 15
           },
           "zerolinecolor": "white",
           "zerolinewidth": 2
          },
          "yaxis": {
           "automargin": true,
           "gridcolor": "white",
           "linecolor": "white",
           "ticks": "",
           "title": {
            "standoff": 15
           },
           "zerolinecolor": "white",
           "zerolinewidth": 2
          }
         }
        },
        "title": {
         "text": "Average Salary by Employee Residence"
        },
        "width": 1000
       }
      }
     },
     "metadata": {},
     "output_type": "display_data"
    }
   ],
   "source": [
    "fig2 = px.choropleth(data,\n",
    "                    locations='country_name',\n",
    "                    locationmode='country names',\n",
    "                    color='salary_in_usd',\n",
    "                    hover_name='country_name',\n",
    "                    hover_data=\n",
    "                    {\n",
    "                        'employee_residence': True, \n",
    "                        'salary_in_usd': ':,.0f'\n",
    "                    },\n",
    "                    color_continuous_scale=px.colors.sequential.Plasma,\n",
    "                    title='Average Salary by Employee Residence',\n",
    "                    labels={'salary_in_usd': 'Average Adjusted Salary'},\n",
    "                    projection='natural earth')\n",
    "\n",
    "fig2.update_layout(width=1000, height=600)\n",
    "fig2.show()"
   ]
  },
  {
   "cell_type": "code",
   "execution_count": 107,
   "id": "6c59f3dc",
   "metadata": {},
   "outputs": [
    {
     "data": {
      "text/html": [
       "<div>\n",
       "<style scoped>\n",
       "    .dataframe tbody tr th:only-of-type {\n",
       "        vertical-align: middle;\n",
       "    }\n",
       "\n",
       "    .dataframe tbody tr th {\n",
       "        vertical-align: top;\n",
       "    }\n",
       "\n",
       "    .dataframe thead th {\n",
       "        text-align: right;\n",
       "    }\n",
       "</style>\n",
       "<table border=\"1\" class=\"dataframe\">\n",
       "  <thead>\n",
       "    <tr style=\"text-align: right;\">\n",
       "      <th></th>\n",
       "      <th>employee_residence</th>\n",
       "      <th>salary_in_usd</th>\n",
       "      <th>country_name</th>\n",
       "    </tr>\n",
       "  </thead>\n",
       "  <tbody>\n",
       "    <tr>\n",
       "      <th>80</th>\n",
       "      <td>QA</td>\n",
       "      <td>300000.000000</td>\n",
       "      <td>Qatar</td>\n",
       "    </tr>\n",
       "    <tr>\n",
       "      <th>14</th>\n",
       "      <td>CD</td>\n",
       "      <td>275000.000000</td>\n",
       "      <td>Democratic Republic of the Congo</td>\n",
       "    </tr>\n",
       "    <tr>\n",
       "      <th>99</th>\n",
       "      <td>VE</td>\n",
       "      <td>192500.000000</td>\n",
       "      <td>Venezuela</td>\n",
       "    </tr>\n",
       "    <tr>\n",
       "      <th>97</th>\n",
       "      <td>US</td>\n",
       "      <td>163903.153066</td>\n",
       "      <td>United States</td>\n",
       "    </tr>\n",
       "    <tr>\n",
       "      <th>44</th>\n",
       "      <td>IL</td>\n",
       "      <td>147321.733333</td>\n",
       "      <td>Israel</td>\n",
       "    </tr>\n",
       "    <tr>\n",
       "      <th>85</th>\n",
       "      <td>SA</td>\n",
       "      <td>139999.333333</td>\n",
       "      <td>Saudi Arabia</td>\n",
       "    </tr>\n",
       "    <tr>\n",
       "      <th>13</th>\n",
       "      <td>CA</td>\n",
       "      <td>129453.317303</td>\n",
       "      <td>Canada</td>\n",
       "    </tr>\n",
       "    <tr>\n",
       "      <th>6</th>\n",
       "      <td>AU</td>\n",
       "      <td>128959.646536</td>\n",
       "      <td>Australia</td>\n",
       "    </tr>\n",
       "    <tr>\n",
       "      <th>56</th>\n",
       "      <td>LB</td>\n",
       "      <td>128833.333333</td>\n",
       "      <td>Lebanon</td>\n",
       "    </tr>\n",
       "    <tr>\n",
       "      <th>18</th>\n",
       "      <td>CN</td>\n",
       "      <td>125404.000000</td>\n",
       "      <td>China</td>\n",
       "    </tr>\n",
       "    <tr>\n",
       "      <th>38</th>\n",
       "      <td>HK</td>\n",
       "      <td>125048.166667</td>\n",
       "      <td>Hong Kong</td>\n",
       "    </tr>\n",
       "    <tr>\n",
       "      <th>87</th>\n",
       "      <td>SG</td>\n",
       "      <td>121900.309524</td>\n",
       "      <td>Singapore</td>\n",
       "    </tr>\n",
       "    <tr>\n",
       "      <th>78</th>\n",
       "      <td>PR</td>\n",
       "      <td>120646.153846</td>\n",
       "      <td>Puerto Rico</td>\n",
       "    </tr>\n",
       "    <tr>\n",
       "      <th>16</th>\n",
       "      <td>CH</td>\n",
       "      <td>119616.984127</td>\n",
       "      <td>Switzerland</td>\n",
       "    </tr>\n",
       "    <tr>\n",
       "      <th>71</th>\n",
       "      <td>NZ</td>\n",
       "      <td>117125.225000</td>\n",
       "      <td>New Zealand</td>\n",
       "    </tr>\n",
       "    <tr>\n",
       "      <th>8</th>\n",
       "      <td>BE</td>\n",
       "      <td>115184.135135</td>\n",
       "      <td>Belgium</td>\n",
       "    </tr>\n",
       "    <tr>\n",
       "      <th>43</th>\n",
       "      <td>IE</td>\n",
       "      <td>114291.527778</td>\n",
       "      <td>Ireland</td>\n",
       "    </tr>\n",
       "    <tr>\n",
       "      <th>29</th>\n",
       "      <td>EG</td>\n",
       "      <td>113986.730769</td>\n",
       "      <td>Egypt</td>\n",
       "    </tr>\n",
       "    <tr>\n",
       "      <th>9</th>\n",
       "      <td>BG</td>\n",
       "      <td>107499.833333</td>\n",
       "      <td>Bulgaria</td>\n",
       "    </tr>\n",
       "    <tr>\n",
       "      <th>22</th>\n",
       "      <td>CZ</td>\n",
       "      <td>107481.300000</td>\n",
       "      <td>Czech Republic</td>\n",
       "    </tr>\n",
       "  </tbody>\n",
       "</table>\n",
       "</div>"
      ],
      "text/plain": [
       "   employee_residence  salary_in_usd                      country_name\n",
       "80                 QA  300000.000000                             Qatar\n",
       "14                 CD  275000.000000  Democratic Republic of the Congo\n",
       "99                 VE  192500.000000                         Venezuela\n",
       "97                 US  163903.153066                     United States\n",
       "44                 IL  147321.733333                            Israel\n",
       "85                 SA  139999.333333                      Saudi Arabia\n",
       "13                 CA  129453.317303                            Canada\n",
       "6                  AU  128959.646536                         Australia\n",
       "56                 LB  128833.333333                           Lebanon\n",
       "18                 CN  125404.000000                             China\n",
       "38                 HK  125048.166667                         Hong Kong\n",
       "87                 SG  121900.309524                         Singapore\n",
       "78                 PR  120646.153846                       Puerto Rico\n",
       "16                 CH  119616.984127                       Switzerland\n",
       "71                 NZ  117125.225000                       New Zealand\n",
       "8                  BE  115184.135135                           Belgium\n",
       "43                 IE  114291.527778                           Ireland\n",
       "29                 EG  113986.730769                             Egypt\n",
       "9                  BG  107499.833333                          Bulgaria\n",
       "22                 CZ  107481.300000                    Czech Republic"
      ]
     },
     "execution_count": 107,
     "metadata": {},
     "output_type": "execute_result"
    }
   ],
   "source": [
    "top_countries=data.sort_values(\"salary_in_usd\",ascending=False).head(20)\n",
    "top_countries"
   ]
  },
  {
   "cell_type": "code",
   "execution_count": 108,
   "id": "3e8cf669",
   "metadata": {},
   "outputs": [
    {
     "name": "stderr",
     "output_type": "stream",
     "text": [
      "C:\\Users\\ADMIN\\AppData\\Local\\Temp\\ipykernel_14588\\4036811383.py:2: FutureWarning:\n",
      "\n",
      "\n",
      "\n",
      "Passing `palette` without assigning `hue` is deprecated and will be removed in v0.14.0. Assign the `x` variable to `hue` and set `legend=False` for the same effect.\n",
      "\n",
      "\n"
     ]
    },
    {
     "data": {
      "image/png": "[encoded data removed]",
      "text/plain": [
       "<Figure size 2000x800 with 1 Axes>"
      ]
     },
     "metadata": {},
     "output_type": "display_data"
    }
   ],
   "source": [
    "plt.figure(figsize=(20, 8))\n",
    "chart = sns.barplot(x='country_name', y='salary_in_usd', data=top_countries, \n",
    "                    palette='viridis', order=top_countries['country_name']);\n",
    "plt.title('Top 20 Countries by Average Data Science Salary', fontsize=16);\n",
    "plt.xlabel('Employee Residence', fontsize=12);\n",
    "plt.ylabel('Average Adjusted Salary (USD)', fontsize=12);\n",
    "plt.xticks(rotation=45, ha='right');\n",
    "plt.grid(axis='y', linestyle='--', alpha=0.7);\n",
    "\n",
    "for i, bar in enumerate(chart.patches):\n",
    "    chart.text(bar.get_x()+bar.get_width()/2., \n",
    "              bar.get_height() + 2000,\n",
    "              f'${top_countries[\"salary_in_usd\"].iloc[i]:,.0f}', \n",
    "              ha='center', fontsize=9)\n"
   ]
  },
  {
   "cell_type": "markdown",
   "id": "5bf75b2a",
   "metadata": {},
   "source": [
    "# Machine Learning\n"
   ]
  },
  {
   "cell_type": "code",
   "execution_count": 109,
   "id": "5c96daae",
   "metadata": {},
   "outputs": [],
   "source": [
    "from sklearn.model_selection import train_test_split,GridSearchCV\n",
    "from sklearn.preprocessing import OrdinalEncoder, OneHotEncoder, MinMaxScaler\n",
    "from sklearn.pipeline import Pipeline\n",
    "from sklearn.compose import ColumnTransformer\n",
    "from sklearn.ensemble import RandomForestRegressor, GradientBoostingRegressor\n",
    "from sklearn.tree import DecisionTreeRegressor\n"
   ]
  },
  {
   "cell_type": "code",
   "execution_count": 110,
   "id": "8577e026",
   "metadata": {},
   "outputs": [
    {
     "data": {
      "text/html": [
       "<div>\n",
       "<style scoped>\n",
       "    .dataframe tbody tr th:only-of-type {\n",
       "        vertical-align: middle;\n",
       "    }\n",
       "\n",
       "    .dataframe tbody tr th {\n",
       "        vertical-align: top;\n",
       "    }\n",
       "\n",
       "    .dataframe thead th {\n",
       "        text-align: right;\n",
       "    }\n",
       "</style>\n",
       "<table border=\"1\" class=\"dataframe\">\n",
       "  <thead>\n",
       "    <tr style=\"text-align: right;\">\n",
       "      <th></th>\n",
       "      <th>work_year</th>\n",
       "      <th>experience_level</th>\n",
       "      <th>employment_type</th>\n",
       "      <th>job_title</th>\n",
       "      <th>salary</th>\n",
       "      <th>salary_currency</th>\n",
       "      <th>salary_in_usd</th>\n",
       "      <th>employee_residence</th>\n",
       "      <th>remote_ratio</th>\n",
       "      <th>company_location</th>\n",
       "      <th>company_size</th>\n",
       "    </tr>\n",
       "  </thead>\n",
       "  <tbody>\n",
       "    <tr>\n",
       "      <th>0</th>\n",
       "      <td>2025</td>\n",
       "      <td>MI</td>\n",
       "      <td>FT</td>\n",
       "      <td>Analyst</td>\n",
       "      <td>142000</td>\n",
       "      <td>USD</td>\n",
       "      <td>142000</td>\n",
       "      <td>US</td>\n",
       "      <td>0</td>\n",
       "      <td>US</td>\n",
       "      <td>M</td>\n",
       "    </tr>\n",
       "    <tr>\n",
       "      <th>1</th>\n",
       "      <td>2025</td>\n",
       "      <td>MI</td>\n",
       "      <td>FT</td>\n",
       "      <td>Analyst</td>\n",
       "      <td>87000</td>\n",
       "      <td>USD</td>\n",
       "      <td>87000</td>\n",
       "      <td>US</td>\n",
       "      <td>0</td>\n",
       "      <td>US</td>\n",
       "      <td>M</td>\n",
       "    </tr>\n",
       "    <tr>\n",
       "      <th>2</th>\n",
       "      <td>2025</td>\n",
       "      <td>SE</td>\n",
       "      <td>FT</td>\n",
       "      <td>Data Quality Lead</td>\n",
       "      <td>218700</td>\n",
       "      <td>USD</td>\n",
       "      <td>218700</td>\n",
       "      <td>US</td>\n",
       "      <td>0</td>\n",
       "      <td>US</td>\n",
       "      <td>M</td>\n",
       "    </tr>\n",
       "    <tr>\n",
       "      <th>3</th>\n",
       "      <td>2025</td>\n",
       "      <td>SE</td>\n",
       "      <td>FT</td>\n",
       "      <td>Data Quality Lead</td>\n",
       "      <td>163200</td>\n",
       "      <td>USD</td>\n",
       "      <td>163200</td>\n",
       "      <td>US</td>\n",
       "      <td>0</td>\n",
       "      <td>US</td>\n",
       "      <td>M</td>\n",
       "    </tr>\n",
       "    <tr>\n",
       "      <th>4</th>\n",
       "      <td>2025</td>\n",
       "      <td>MI</td>\n",
       "      <td>FT</td>\n",
       "      <td>Data Quality Specialist</td>\n",
       "      <td>121524</td>\n",
       "      <td>USD</td>\n",
       "      <td>121524</td>\n",
       "      <td>US</td>\n",
       "      <td>0</td>\n",
       "      <td>US</td>\n",
       "      <td>M</td>\n",
       "    </tr>\n",
       "  </tbody>\n",
       "</table>\n",
       "</div>"
      ],
      "text/plain": [
       "   work_year experience_level employment_type                job_title  \\\n",
       "0       2025               MI              FT                  Analyst   \n",
       "1       2025               MI              FT                  Analyst   \n",
       "2       2025               SE              FT        Data Quality Lead   \n",
       "3       2025               SE              FT        Data Quality Lead   \n",
       "4       2025               MI              FT  Data Quality Specialist   \n",
       "\n",
       "   salary salary_currency  salary_in_usd employee_residence  remote_ratio  \\\n",
       "0  142000             USD         142000                 US             0   \n",
       "1   87000             USD          87000                 US             0   \n",
       "2  218700             USD         218700                 US             0   \n",
       "3  163200             USD         163200                 US             0   \n",
       "4  121524             USD         121524                 US             0   \n",
       "\n",
       "  company_location company_size  \n",
       "0               US            M  \n",
       "1               US            M  \n",
       "2               US            M  \n",
       "3               US            M  \n",
       "4               US            M  "
      ]
     },
     "execution_count": 110,
     "metadata": {},
     "output_type": "execute_result"
    }
   ],
   "source": [
    "df.head()"
   ]
  },
  {
   "cell_type": "markdown",
   "id": "030d8432",
   "metadata": {},
   "source": [
    "### Feature engineer"
   ]
  },
  {
   "cell_type": "code",
   "execution_count": 111,
   "id": "651ef7b7",
   "metadata": {},
   "outputs": [],
   "source": [
    "df=df.drop([\"salary\",\"salary_currency\"],axis=1)"
   ]
  },
  {
   "cell_type": "code",
   "execution_count": 112,
   "id": "8ab059e1",
   "metadata": {},
   "outputs": [
    {
     "data": {
      "text/html": [
       "<div>\n",
       "<style scoped>\n",
       "    .dataframe tbody tr th:only-of-type {\n",
       "        vertical-align: middle;\n",
       "    }\n",
       "\n",
       "    .dataframe tbody tr th {\n",
       "        vertical-align: top;\n",
       "    }\n",
       "\n",
       "    .dataframe thead th {\n",
       "        text-align: right;\n",
       "    }\n",
       "</style>\n",
       "<table border=\"1\" class=\"dataframe\">\n",
       "  <thead>\n",
       "    <tr style=\"text-align: right;\">\n",
       "      <th></th>\n",
       "      <th>work_year</th>\n",
       "      <th>salary_in_usd</th>\n",
       "      <th>remote_ratio</th>\n",
       "    </tr>\n",
       "  </thead>\n",
       "  <tbody>\n",
       "    <tr>\n",
       "      <th>work_year</th>\n",
       "      <td>1.000000</td>\n",
       "      <td>0.016533</td>\n",
       "      <td>-0.075684</td>\n",
       "    </tr>\n",
       "    <tr>\n",
       "      <th>salary_in_usd</th>\n",
       "      <td>0.016533</td>\n",
       "      <td>1.000000</td>\n",
       "      <td>-0.045889</td>\n",
       "    </tr>\n",
       "    <tr>\n",
       "      <th>remote_ratio</th>\n",
       "      <td>-0.075684</td>\n",
       "      <td>-0.045889</td>\n",
       "      <td>1.000000</td>\n",
       "    </tr>\n",
       "  </tbody>\n",
       "</table>\n",
       "</div>"
      ],
      "text/plain": [
       "               work_year  salary_in_usd  remote_ratio\n",
       "work_year       1.000000       0.016533     -0.075684\n",
       "salary_in_usd   0.016533       1.000000     -0.045889\n",
       "remote_ratio   -0.075684      -0.045889      1.000000"
      ]
     },
     "execution_count": 112,
     "metadata": {},
     "output_type": "execute_result"
    }
   ],
   "source": [
    "df.corr(numeric_only=True)"
   ]
  },
  {
   "cell_type": "code",
   "execution_count": 113,
   "id": "148b7d43",
   "metadata": {},
   "outputs": [
    {
     "name": "stdout",
     "output_type": "stream",
     "text": [
      "experience_level ['MI' 'SE' 'EX' 'EN']\n",
      "work_year [2025 2024 2023 2022 2020 2021]\n",
      "employment_type ['FT' 'CT' 'PT' 'FL']\n",
      "employee_residence ['US' 'CA' 'BE' 'GB' 'CH' 'GR' 'SG' 'SK' 'FR' 'NL' 'CZ' 'NZ' 'AU' 'ES'\n",
      " 'IN' 'PL' 'DE' 'IT' 'AT' 'HR' 'FI' 'PR' 'AR' 'PT' 'BR' 'LT' 'IE' 'PH'\n",
      " 'RO' 'ML' 'NO' 'CL' 'MY' 'SV' 'CO' 'DO' 'MX' 'GT' 'CR' 'LV' 'ZA' 'EE'\n",
      " 'EG' 'JO' 'CY' 'UA' 'TH' 'JM' 'JP' 'MT' 'MK' 'SI' 'HK' 'LS' 'ID' 'PE'\n",
      " 'HU' 'PA' 'LU' 'DZ' 'KE' 'CD' 'SE' 'KR' 'TW' 'TR' 'NG' 'DK' 'AE' 'BG'\n",
      " 'RS' 'EC' 'XK' 'ZM' 'AM' 'RW' 'IL' 'LB' 'PK' 'HN' 'VE' 'BM' 'VN' 'GE'\n",
      " 'SA' 'OM' 'BA' 'UG' 'MU' 'QA' 'RU' 'TN' 'GH' 'AD' 'MD' 'UZ' 'CF' 'KW'\n",
      " 'IR' 'AS' 'CN' 'BO' 'IQ' 'JE']\n",
      "remote_ratio [  0 100  50]\n",
      "company_location ['US' 'CA' 'BE' 'GB' 'CH' 'GR' 'SG' 'SK' 'FR' 'NL' 'CZ' 'NZ' 'AU' 'ES'\n",
      " 'IN' 'PL' 'DE' 'IT' 'AT' 'HR' 'FI' 'PR' 'AR' 'PT' 'BR' 'LT' 'IE' 'PH'\n",
      " 'RO' 'ML' 'NO' 'CL' 'MY' 'SV' 'CO' 'DO' 'MX' 'GT' 'CR' 'LV' 'ZA' 'EE'\n",
      " 'EG' 'JO' 'CY' 'UA' 'TH' 'JM' 'JP' 'MT' 'MK' 'SI' 'HK' 'LS' 'PE' 'HU'\n",
      " 'PA' 'LU' 'DZ' 'KE' 'CD' 'SE' 'KR' 'TW' 'TR' 'DK' 'AE' 'BG' 'ID' 'RS'\n",
      " 'EC' 'XK' 'ZM' 'AM' 'IL' 'LB' 'NG' 'PK' 'HN' 'VE' 'AS' 'SA' 'OM' 'BA'\n",
      " 'VN' 'GI' 'MU' 'RU' 'QA' 'GH' 'AD' 'CF' 'IR' 'BS' 'IQ' 'CN' 'MD']\n",
      "company_size ['M' 'L' 'S']\n"
     ]
    }
   ],
   "source": [
    "print(\"experience_level\",df[\"experience_level\"].unique())\n",
    "print(\"work_year\",df[\"work_year\"].unique())\n",
    "print(\"employment_type\",df[\"employment_type\"].unique())\n",
    "print(\"employee_residence\",df[\"employee_residence\"].unique())\n",
    "print(\"remote_ratio\",df[\"remote_ratio\"].unique())\n",
    "print(\"company_location\",df[\"company_location\"].unique())\n",
    "print(\"company_size\",df[\"company_size\"].unique())"
   ]
  },
  {
   "cell_type": "code",
   "execution_count": 114,
   "id": "ad83fd6f",
   "metadata": {},
   "outputs": [
    {
     "name": "stdout",
     "output_type": "stream",
     "text": [
      "job_title ['Analyst' 'Data Quality Lead' 'Data Quality Specialist' 'Data Modeler'\n",
      " 'Software Engineer' 'Machine Learning Engineer' 'Manager' 'Developer'\n",
      " 'Engineer' 'Head of Data' 'Director' 'Data Scientist' 'Data Developer'\n",
      " 'Research Scientist' 'Product Owner' 'Data Analyst' 'Data Engineer'\n",
      " 'AI Engineer' 'Architect' 'Data Architect' 'Economist'\n",
      " 'Software Development Engineer' 'Product Manager' 'Solutions Architect'\n",
      " 'Backend Engineer' 'DevOps Engineer' 'Systems Engineer' 'Consultant'\n",
      " 'Research Assistant' 'Solutions Engineer' 'Researcher'\n",
      " 'Analytics Manager' 'Engineering Manager' 'Solution Engineer'\n",
      " 'Research Specialist' 'Lead Engineer' 'Applied Scientist'\n",
      " 'Data Operations' 'Solution Architect' 'Business Intelligence Engineer'\n",
      " 'SAS Developer' 'Data Governance Manager' 'Business Intelligence Lead'\n",
      " 'Software Developer' 'System Engineer' 'Staff Engineer'\n",
      " 'Principal Engineer' 'Data Integration Lead' 'Data Governance'\n",
      " 'Data Manager' 'Data Management' 'Data Management Lead'\n",
      " 'Application Developer' 'Analytics Lead' 'Tech Lead' 'Associate'\n",
      " 'Full Stack Developer' 'AI Solution Director' 'Analytics Engineer'\n",
      " 'Data Management Specialist' 'Cdd' 'Data Analytics Manager'\n",
      " 'Postdoctoral Researcher' 'Business Analyst' 'Machine Learning Developer'\n",
      " 'Data Quality Engineer' 'Data Integration Engineer' 'Data Specialist'\n",
      " 'Research Associate' 'Technical Lead' 'Quantitative Analyst'\n",
      " 'Data Infrastructure Engineer' 'Data Strategist'\n",
      " 'Member of Technical Staff' 'Research Engineer' 'Automation Engineer'\n",
      " 'BI Engineer' 'Product Designer' 'Data Analysis' 'BI Analyst'\n",
      " 'Platform Engineer' 'Technical Recruiter' 'Business Intelligence Analyst'\n",
      " 'Cloud Engineer' 'ML Scientist' 'Data Visualization Developer'\n",
      " 'Psychometrician' 'Forward Deployed Engineer' 'Content Writer'\n",
      " 'Statistician' 'Executive' 'Business Intelligence Developer'\n",
      " 'Statistical Programmer' 'Data Lead' 'Data Visualization Expert'\n",
      " 'Data Management Analyst' 'Technical Architect'\n",
      " 'Machine Learning Researcher' 'Actuary' 'Machine Learning Scientist'\n",
      " 'Data Analytics Lead' 'Data and Reporting Professional'\n",
      " 'Data Visualization Specialist' 'Data Platform Engineer'\n",
      " 'Post Doctoral Fellow' 'Prompt Engineer' 'AI Developer'\n",
      " 'Advanced Analytics Manager' 'Data Governance Analyst'\n",
      " 'Data Product Owner' 'Data Operations Specialist' 'Power BI Developer'\n",
      " 'BI Developer' 'AI Researcher' 'Principal Scientist' 'Software Architect'\n",
      " 'Account Executive' 'Algorithm Developer' 'Power BI Specialist'\n",
      " 'Bioinformatician' 'AI Lead' 'Insight Analyst' 'Research Fellow'\n",
      " 'Encounter Data Management Professional' 'Head of AI'\n",
      " 'Solution Specialist' 'Site Reliability Engineer' 'Data Analist'\n",
      " 'Technical Support Engineer' 'Business Development Representative'\n",
      " 'Data Analytics Specialist' 'AI Architect' 'Java Developer'\n",
      " 'Data Product Manager' 'Trainee' 'Sales Engineer' 'Head of Marketing'\n",
      " 'Data Integrity Specialist' 'Analytics Specialist' 'Data Governance Lead'\n",
      " 'MLOps Engineer' 'Decision Scientist' 'Data Quality Analyst'\n",
      " 'Data Steward' 'AI Scientist' 'AI Solutions Lead' 'AI Specialist'\n",
      " 'Full Stack Engineer' 'Product Analyst' 'Research Professional'\n",
      " 'Director of Machine Learning' 'Computer Vision Engineer'\n",
      " 'Data Strategy Lead' 'Technical Consultant' 'Data Management Officer'\n",
      " 'Postdoctoral Fellow' 'Artificial Intelligence Engineer'\n",
      " 'Principal Researcher' 'Director of Product Management' 'ETL Developer'\n",
      " 'Postdoctoral Scholar' 'Computational Biologist' 'Product Specialist'\n",
      " 'Bioinformatics Scientist' 'Data Visualization Engineer'\n",
      " 'Quantitative Researcher' 'AIRS Solutions Specialist'\n",
      " 'Machine Learning Lead' 'Quantitative Trader'\n",
      " 'Machine Learning Architect' 'QA Engineer' 'Databricks Engineer'\n",
      " 'Data Integrator' 'Data Management Professional'\n",
      " 'Quantitative Risk Analyst' 'AI Data Scientist' 'Business Intelligence'\n",
      " 'QA Tutor Reviewer' 'Data Team Lead' 'Python Developer'\n",
      " 'Technical Specialist' 'Machine Learning Specialist'\n",
      " 'Data Management Technician' 'Power BI Expert'\n",
      " 'Data Governance Specialist' 'AI Product Lead' 'Director of Data'\n",
      " 'Commercial Counsel' 'Security Researcher' 'Data Integration Specialist'\n",
      " 'Director of Engineering' 'DevOps Lead' 'Data & Analytics Specialist'\n",
      " 'Data Operations Manager' 'Data Operations Analyst'\n",
      " 'Data Operations Engineer' 'Conversational AI Designer'\n",
      " 'AI Product Specialist' 'Clinical Aide' 'Web Developer'\n",
      " 'Data Visualization Lead' 'Systems Administrator'\n",
      " 'Postdoctoral Research Fellow' 'Data Management Associate'\n",
      " 'Fraud Data Analyst' 'Admin & Data Analyst' 'Data Engineer 4'\n",
      " 'AI Governance Lead' 'Power BI' 'Cloud Database Administrator'\n",
      " 'IT Enterprise Data Architect' 'Copywriter'\n",
      " 'Principal Statistical Programmer' 'Marketing Science Partner'\n",
      " 'DataOps Engineer' 'Sales Development Representative' 'Data Product Lead'\n",
      " 'Data Operator' 'Data Reporter' 'Bear Robotics'\n",
      " 'Business Intelligence Specialist' 'Creative Technologist'\n",
      " 'Big Data Developer' 'Cloud Database Engineer' 'Tableau Developer'\n",
      " 'Bioinformatics Specialist' 'Computational Scientist'\n",
      " 'Data Governance Engineer' 'Data Operations Lead'\n",
      " 'Quantitative Developer' 'AI Content Writer' 'AI Governance Specialist'\n",
      " 'AI Research Scientist' 'Data & Analytics Analyst'\n",
      " 'Power BI Administrator' 'Data Consultant' 'Research Analyst'\n",
      " 'Cheminformatics Scientist' 'Data Governance Consultant'\n",
      " 'Technical Support Specialist' 'Cientista de Dados' 'AI Tech Lead'\n",
      " 'System Administrator' 'AI Strategist' 'AI Solutions Specialist'\n",
      " 'Enterprise Account Executive' 'Software Development Director'\n",
      " 'Advanced Data Analyst' 'Head of Machine Learning' 'AI Engineering Lead'\n",
      " 'Data Reporting Specialist' 'Quant Trader' 'Integration Specialist'\n",
      " 'Database Administrator' 'Backend Developer' 'Technical Writer'\n",
      " 'AI Product Owner' 'Head of Applied AI' 'Salesforce Administrator'\n",
      " 'Chatbot Developer' 'Cloud Developer' 'Data Analytics Business Partner'\n",
      " 'Data Quality Expert' 'BI & Data Analyst' 'Network Engineer'\n",
      " 'Risk Analyst' 'Cloud Architect' 'Data Scientist Manager'\n",
      " 'Robotics Engineer' 'Data Management Consultant' 'Stage'\n",
      " 'Data and Analytics Consultant' 'Alternance' 'Big Data Engineer'\n",
      " 'LLM Engineer' 'Data Integration Developer' 'Data Archivist'\n",
      " 'Developer Advocate' 'RPA Developer' 'Research Team Lead'\n",
      " 'Data Analytics Developer' 'Quant Options Trader'\n",
      " 'Data Management Expert' 'Scala Spark Developer'\n",
      " 'Business Intelligence Manager' 'Data Scientist Expert'\n",
      " 'Customer Success Engineer' 'Data Visualization Designer'\n",
      " 'Experienced Quantitative Strategist' 'Tech Lead Data'\n",
      " 'Data and Reporting Analyst' 'AI Programmer' 'Data Analysis Specialist'\n",
      " 'GenAI Architect' 'Data Reporting Analyst' 'Data Integrity Analyst'\n",
      " 'Data Visualization Analyst' 'Lead Data Analysis'\n",
      " 'Customer Success Manager' 'Actuarial Analyst' 'AI Data Engineer'\n",
      " 'Technology Integrator' 'Principal Software Architect'\n",
      " 'Master Data Management' 'Staff Data Scientist'\n",
      " 'AI Machine Learning Engineer' 'Lead Analyst' 'Data Analytics Consultant'\n",
      " 'Data Scientist Associate' 'Clinical Data Operator'\n",
      " 'Research Data Manager' 'Applied Research Scientist'\n",
      " 'Lead Data Management' 'Data Integration Analyst'\n",
      " 'Safety Data Management Specialist' 'Big Data Analyst' 'Pricing Analyst'\n",
      " 'Lead Data Engineer' 'AI Engineering Manager'\n",
      " 'Data Management Coordinator' 'Analytics Analyst' 'Controls Engineer'\n",
      " 'Machine Learning Tech Lead' 'Business Development Manager'\n",
      " 'Business Insights Manager' 'Platform Data Engineer'\n",
      " 'Principal Application Delivery Consultant' 'Data Governance Architect'\n",
      " 'Power BI Consultant' 'Backend Software Engineer' 'AI Product Manager'\n",
      " 'Data Operations Associate' 'ML Infrastructure Engineer'\n",
      " 'Fullstack Engineer' 'Machine Learning Quality Engineer'\n",
      " 'Security Engineer' 'Infrastructure Engineer'\n",
      " 'Machine Learning Performance Engineer' 'Data Analytics Associate'\n",
      " 'Power BI Architect' 'Machine Learning Platform Engineer'\n",
      " 'AI Solution Architect' 'Data Scientist Lead' 'Machine Vision Engineer'\n",
      " 'Machine Learning Model Engineer' 'Marketing Analyst'\n",
      " 'Data Management Manager' 'Marketing Analytics Manager'\n",
      " 'Applied AI ML Lead' 'Data Strategy Manager' 'Machine Learning Manager'\n",
      " 'Data Product Analyst' 'Data Quality Manager'\n",
      " 'Elasticsearch Administrator' 'Machine Learning Infrastructure Engineer'\n",
      " 'People Data Analyst' 'Frontend Engineer' 'NLP Engineer'\n",
      " 'Data Analytics Team Lead' 'Machine Learning Modeler'\n",
      " 'Data Integration Coordinator' 'Head of Business Intelligence'\n",
      " 'ETL Engineer' 'AI Research Engineer' 'Business Intelligence Consultant'\n",
      " 'Robotics Software Engineer' 'AI Software Engineer' 'Lead AI Engineer'\n",
      " 'AI Software Development Engineer' 'Master Data Specialist'\n",
      " 'Consultant Data Engineer' 'Manager Data Management'\n",
      " 'Director of Business Intelligence' 'Lead Data Scientist'\n",
      " 'CRM Data Analyst' 'BI Data Analyst' 'Applied Data Scientist'\n",
      " 'Data DevOps Engineer' 'Quantitative Research Analyst'\n",
      " 'Lead Machine Learning Engineer' 'Machine Learning Research Engineer'\n",
      " 'Data Analyst Lead' 'Data Pipeline Engineer' 'Lead Data Analyst'\n",
      " 'Business Data Analyst' 'Marketing Data Scientist'\n",
      " 'Deep Learning Engineer' 'Financial Data Analyst' 'Azure Data Engineer'\n",
      " 'Principal Data Scientist' 'Staff Data Analyst'\n",
      " 'Machine Learning Software Engineer' 'Applied Machine Learning Scientist'\n",
      " 'Principal Machine Learning Engineer' 'Principal Data Engineer'\n",
      " 'Staff Machine Learning Engineer' 'Business Intelligence Data Analyst'\n",
      " 'Finance Data Analyst' 'Software Data Engineer' 'Compliance Data Analyst'\n",
      " 'Cloud Data Engineer' 'Analytics Engineering Manager'\n",
      " 'AWS Data Architect' 'Product Data Analyst'\n",
      " 'Autonomous Vehicle Technician' 'Sales Data Analyst'\n",
      " 'Applied Machine Learning Engineer' 'BI Data Engineer'\n",
      " 'Deep Learning Researcher' 'Big Data Architect'\n",
      " 'Computer Vision Software Engineer' 'Marketing Data Engineer'\n",
      " 'Data Science Tech Lead' 'Marketing Data Analyst'\n",
      " 'Principal Data Architect' 'Data Analytics Engineer'\n",
      " 'Cloud Data Architect' 'Principal Data Analyst']\n"
     ]
    }
   ],
   "source": [
    "print(\"job_title\",df[\"job_title\"].unique())"
   ]
  },
  {
   "cell_type": "code",
   "execution_count": 115,
   "id": "11e0e366",
   "metadata": {},
   "outputs": [],
   "source": [
    "def category_process(title):\n",
    "    title_lower=title.lower()\n",
    "    if \"science\" in title_lower or \"scientist\" in title_lower:\n",
    "        return \"Science\"\n",
    "    elif \"analyst\" in title_lower:\n",
    "        return \"Analyst\"\n",
    "    elif \"engineer\" in title_lower:\n",
    "        return \"Engineer\"\n",
    "    elif \"manager\" in title_lower or \"head\" in title_lower or \"director\" in title_lower:\n",
    "        return \"Manager\"\n",
    "    elif \"developer\" in title_lower:\n",
    "        return \"Developer\"\n",
    "    elif \"architect\" in title_lower:\n",
    "        return \"Architect\"\n",
    "    else:\n",
    "        return \"Other\"\n",
    "df[\"job_category\"]=df[\"job_title\"].apply(category_process)\n",
    "df=df.drop(\"job_title\",axis=1)"
   ]
  },
  {
   "cell_type": "code",
   "execution_count": 116,
   "id": "6b4cfffc",
   "metadata": {},
   "outputs": [
    {
     "data": {
      "text/html": [
       "<div>\n",
       "<style scoped>\n",
       "    .dataframe tbody tr th:only-of-type {\n",
       "        vertical-align: middle;\n",
       "    }\n",
       "\n",
       "    .dataframe tbody tr th {\n",
       "        vertical-align: top;\n",
       "    }\n",
       "\n",
       "    .dataframe thead th {\n",
       "        text-align: right;\n",
       "    }\n",
       "</style>\n",
       "<table border=\"1\" class=\"dataframe\">\n",
       "  <thead>\n",
       "    <tr style=\"text-align: right;\">\n",
       "      <th></th>\n",
       "      <th>work_year</th>\n",
       "      <th>experience_level</th>\n",
       "      <th>employment_type</th>\n",
       "      <th>salary_in_usd</th>\n",
       "      <th>employee_residence</th>\n",
       "      <th>remote_ratio</th>\n",
       "      <th>company_location</th>\n",
       "      <th>company_size</th>\n",
       "      <th>job_category</th>\n",
       "    </tr>\n",
       "  </thead>\n",
       "  <tbody>\n",
       "    <tr>\n",
       "      <th>0</th>\n",
       "      <td>2025</td>\n",
       "      <td>MI</td>\n",
       "      <td>FT</td>\n",
       "      <td>142000</td>\n",
       "      <td>US</td>\n",
       "      <td>0</td>\n",
       "      <td>US</td>\n",
       "      <td>M</td>\n",
       "      <td>Analyst</td>\n",
       "    </tr>\n",
       "    <tr>\n",
       "      <th>1</th>\n",
       "      <td>2025</td>\n",
       "      <td>MI</td>\n",
       "      <td>FT</td>\n",
       "      <td>87000</td>\n",
       "      <td>US</td>\n",
       "      <td>0</td>\n",
       "      <td>US</td>\n",
       "      <td>M</td>\n",
       "      <td>Analyst</td>\n",
       "    </tr>\n",
       "    <tr>\n",
       "      <th>2</th>\n",
       "      <td>2025</td>\n",
       "      <td>SE</td>\n",
       "      <td>FT</td>\n",
       "      <td>218700</td>\n",
       "      <td>US</td>\n",
       "      <td>0</td>\n",
       "      <td>US</td>\n",
       "      <td>M</td>\n",
       "      <td>Other</td>\n",
       "    </tr>\n",
       "    <tr>\n",
       "      <th>3</th>\n",
       "      <td>2025</td>\n",
       "      <td>SE</td>\n",
       "      <td>FT</td>\n",
       "      <td>163200</td>\n",
       "      <td>US</td>\n",
       "      <td>0</td>\n",
       "      <td>US</td>\n",
       "      <td>M</td>\n",
       "      <td>Other</td>\n",
       "    </tr>\n",
       "    <tr>\n",
       "      <th>4</th>\n",
       "      <td>2025</td>\n",
       "      <td>MI</td>\n",
       "      <td>FT</td>\n",
       "      <td>121524</td>\n",
       "      <td>US</td>\n",
       "      <td>0</td>\n",
       "      <td>US</td>\n",
       "      <td>M</td>\n",
       "      <td>Other</td>\n",
       "    </tr>\n",
       "  </tbody>\n",
       "</table>\n",
       "</div>"
      ],
      "text/plain": [
       "   work_year experience_level employment_type  salary_in_usd  \\\n",
       "0       2025               MI              FT         142000   \n",
       "1       2025               MI              FT          87000   \n",
       "2       2025               SE              FT         218700   \n",
       "3       2025               SE              FT         163200   \n",
       "4       2025               MI              FT         121524   \n",
       "\n",
       "  employee_residence  remote_ratio company_location company_size job_category  \n",
       "0                 US             0               US            M      Analyst  \n",
       "1                 US             0               US            M      Analyst  \n",
       "2                 US             0               US            M        Other  \n",
       "3                 US             0               US            M        Other  \n",
       "4                 US             0               US            M        Other  "
      ]
     },
     "execution_count": 116,
     "metadata": {},
     "output_type": "execute_result"
    }
   ],
   "source": [
    "df.head()"
   ]
  },
  {
   "cell_type": "code",
   "execution_count": 117,
   "id": "3b855122",
   "metadata": {},
   "outputs": [],
   "source": [
    "country_to_region = {\n",
    "    # Bắc Mỹ\n",
    "    'US': 'North America', 'CA': 'North America', 'MX': 'North America', 'PR': 'North America', 'CR': 'North America',\n",
    "    'PA': 'North America', 'SV': 'North America', 'HN': 'North America', 'GT': 'North America',\n",
    "\n",
    "    # Nam Mỹ\n",
    "    'BR': 'South America', 'AR': 'South America', 'CL': 'South America', 'CO': 'South America',\n",
    "    'PE': 'South America', 'EC': 'South America', 'VE': 'South America', 'BO': 'South America',\n",
    "\n",
    "    # Châu Âu\n",
    "    'GB': 'Europe', 'DE': 'Europe', 'FR': 'Europe', 'ES': 'Europe', 'IT': 'Europe', 'NL': 'Europe', 'BE': 'Europe',\n",
    "    'CH': 'Europe', 'PL': 'Europe', 'PT': 'Europe', 'FI': 'Europe', 'DK': 'Europe', 'NO': 'Europe',\n",
    "    'SE': 'Europe', 'IE': 'Europe', 'LT': 'Europe', 'LV': 'Europe', 'EE': 'Europe', 'CZ': 'Europe',\n",
    "    'SK': 'Europe', 'AT': 'Europe', 'HR': 'Europe', 'RO': 'Europe', 'BG': 'Europe', 'RS': 'Europe',\n",
    "    'BA': 'Europe', 'MK': 'Europe', 'XK': 'Europe', 'LU': 'Europe', 'CY': 'Europe', 'MD': 'Europe',\n",
    "    'AD': 'Europe', 'JE': 'Europe',\n",
    "\n",
    "    # Châu Á\n",
    "    'IN': 'Asia', 'CN': 'Asia', 'JP': 'Asia', 'VN': 'Asia', 'SG': 'Asia', 'MY': 'Asia', 'PH': 'Asia',\n",
    "    'TH': 'Asia', 'HK': 'Asia', 'KR': 'Asia', 'TW': 'Asia', 'AE': 'Asia', 'QA': 'Asia', 'OM': 'Asia',\n",
    "    'SA': 'Asia', 'KW': 'Asia', 'LB': 'Asia', 'IL': 'Asia', 'IR': 'Asia', 'IQ': 'Asia', 'AM': 'Asia',\n",
    "    'GE': 'Asia', 'RU': 'Asia', 'PK': 'Asia', 'ID': 'Asia',\n",
    "\n",
    "    # Châu Phi\n",
    "    'ZA': 'Africa', 'NG': 'Africa', 'KE': 'Africa', 'GH': 'Africa', 'DZ': 'Africa', 'RW': 'Africa',\n",
    "    'LS': 'Africa', 'MU': 'Africa', 'UG': 'Africa', 'ZM': 'Africa', 'CF': 'Africa', 'EG': 'Africa',\n",
    "    'TN': 'Africa', 'ML': 'Africa',\n",
    "\n",
    "    # Châu Đại Dương\n",
    "    'AU': 'Oceania', 'NZ': 'Oceania', 'AS': 'Oceania',\n",
    "\n",
    "    # Khác / Island\n",
    "    'BM': 'Other'\n",
    "}\n",
    "df[\"region\"] = df[\"employee_residence\"].map(country_to_region).fillna(\"Other\")\n",
    "df[\"company_region\"]=df[\"company_location\"].map(country_to_region).fillna(\"Other\")\n",
    "df=df.drop([\"employee_residence\",\"company_location\"],axis=1)\n"
   ]
  },
  {
   "cell_type": "code",
   "execution_count": 118,
   "id": "0b861a76",
   "metadata": {},
   "outputs": [
    {
     "data": {
      "text/html": [
       "<div>\n",
       "<style scoped>\n",
       "    .dataframe tbody tr th:only-of-type {\n",
       "        vertical-align: middle;\n",
       "    }\n",
       "\n",
       "    .dataframe tbody tr th {\n",
       "        vertical-align: top;\n",
       "    }\n",
       "\n",
       "    .dataframe thead th {\n",
       "        text-align: right;\n",
       "    }\n",
       "</style>\n",
       "<table border=\"1\" class=\"dataframe\">\n",
       "  <thead>\n",
       "    <tr style=\"text-align: right;\">\n",
       "      <th></th>\n",
       "      <th>work_year</th>\n",
       "      <th>experience_level</th>\n",
       "      <th>employment_type</th>\n",
       "      <th>salary_in_usd</th>\n",
       "      <th>remote_ratio</th>\n",
       "      <th>company_size</th>\n",
       "      <th>job_category</th>\n",
       "      <th>region</th>\n",
       "      <th>company_region</th>\n",
       "    </tr>\n",
       "  </thead>\n",
       "  <tbody>\n",
       "    <tr>\n",
       "      <th>0</th>\n",
       "      <td>2025</td>\n",
       "      <td>MI</td>\n",
       "      <td>FT</td>\n",
       "      <td>142000</td>\n",
       "      <td>0</td>\n",
       "      <td>M</td>\n",
       "      <td>Analyst</td>\n",
       "      <td>North America</td>\n",
       "      <td>North America</td>\n",
       "    </tr>\n",
       "    <tr>\n",
       "      <th>1</th>\n",
       "      <td>2025</td>\n",
       "      <td>MI</td>\n",
       "      <td>FT</td>\n",
       "      <td>87000</td>\n",
       "      <td>0</td>\n",
       "      <td>M</td>\n",
       "      <td>Analyst</td>\n",
       "      <td>North America</td>\n",
       "      <td>North America</td>\n",
       "    </tr>\n",
       "    <tr>\n",
       "      <th>2</th>\n",
       "      <td>2025</td>\n",
       "      <td>SE</td>\n",
       "      <td>FT</td>\n",
       "      <td>218700</td>\n",
       "      <td>0</td>\n",
       "      <td>M</td>\n",
       "      <td>Other</td>\n",
       "      <td>North America</td>\n",
       "      <td>North America</td>\n",
       "    </tr>\n",
       "    <tr>\n",
       "      <th>3</th>\n",
       "      <td>2025</td>\n",
       "      <td>SE</td>\n",
       "      <td>FT</td>\n",
       "      <td>163200</td>\n",
       "      <td>0</td>\n",
       "      <td>M</td>\n",
       "      <td>Other</td>\n",
       "      <td>North America</td>\n",
       "      <td>North America</td>\n",
       "    </tr>\n",
       "    <tr>\n",
       "      <th>4</th>\n",
       "      <td>2025</td>\n",
       "      <td>MI</td>\n",
       "      <td>FT</td>\n",
       "      <td>121524</td>\n",
       "      <td>0</td>\n",
       "      <td>M</td>\n",
       "      <td>Other</td>\n",
       "      <td>North America</td>\n",
       "      <td>North America</td>\n",
       "    </tr>\n",
       "  </tbody>\n",
       "</table>\n",
       "</div>"
      ],
      "text/plain": [
       "   work_year experience_level employment_type  salary_in_usd  remote_ratio  \\\n",
       "0       2025               MI              FT         142000             0   \n",
       "1       2025               MI              FT          87000             0   \n",
       "2       2025               SE              FT         218700             0   \n",
       "3       2025               SE              FT         163200             0   \n",
       "4       2025               MI              FT         121524             0   \n",
       "\n",
       "  company_size job_category         region company_region  \n",
       "0            M      Analyst  North America  North America  \n",
       "1            M      Analyst  North America  North America  \n",
       "2            M        Other  North America  North America  \n",
       "3            M        Other  North America  North America  \n",
       "4            M        Other  North America  North America  "
      ]
     },
     "execution_count": 118,
     "metadata": {},
     "output_type": "execute_result"
    }
   ],
   "source": [
    "df.head()"
   ]
  },
  {
   "cell_type": "markdown",
   "id": "8b945078",
   "metadata": {},
   "source": [
    "### Regression"
   ]
  },
  {
   "cell_type": "code",
   "execution_count": 119,
   "id": "e019465d",
   "metadata": {},
   "outputs": [
    {
     "name": "stdout",
     "output_type": "stream",
     "text": [
      "region\n",
      "North America    0.936508\n",
      "Europe           0.051425\n",
      "Oceania          0.004400\n",
      "Asia             0.003574\n",
      "South America    0.001968\n",
      "Africa           0.001114\n",
      "Other            0.001011\n",
      "Name: proportion, dtype: float64\n",
      "job_category\n",
      "Engineer     0.448431\n",
      "Science      0.171816\n",
      "Analyst      0.152322\n",
      "Manager      0.088788\n",
      "Other        0.082522\n",
      "Architect    0.031446\n",
      "Developer    0.024674\n",
      "Name: proportion, dtype: float64\n",
      "experience_level\n",
      "SE    0.578477\n",
      "MI    0.303455\n",
      "EN    0.092014\n",
      "EX    0.026054\n",
      "Name: proportion, dtype: float64\n"
     ]
    }
   ],
   "source": [
    "print(df['region'].value_counts(normalize=True))\n",
    "print(df['job_category'].value_counts(normalize=True))\n",
    "print(df['experience_level'].value_counts(normalize=True))\n"
   ]
  },
  {
   "cell_type": "markdown",
   "id": "12e9e909",
   "metadata": {},
   "source": [
    "- train, test split"
   ]
  },
  {
   "cell_type": "code",
   "execution_count": 120,
   "id": "f7dd84fe",
   "metadata": {},
   "outputs": [
    {
     "data": {
      "text/html": [
       "<div>\n",
       "<style scoped>\n",
       "    .dataframe tbody tr th:only-of-type {\n",
       "        vertical-align: middle;\n",
       "    }\n",
       "\n",
       "    .dataframe tbody tr th {\n",
       "        vertical-align: top;\n",
       "    }\n",
       "\n",
       "    .dataframe thead th {\n",
       "        text-align: right;\n",
       "    }\n",
       "</style>\n",
       "<table border=\"1\" class=\"dataframe\">\n",
       "  <thead>\n",
       "    <tr style=\"text-align: right;\">\n",
       "      <th></th>\n",
       "      <th>work_year</th>\n",
       "      <th>experience_level</th>\n",
       "      <th>employment_type</th>\n",
       "      <th>remote_ratio</th>\n",
       "      <th>company_size</th>\n",
       "      <th>job_category</th>\n",
       "      <th>region</th>\n",
       "      <th>company_region</th>\n",
       "    </tr>\n",
       "  </thead>\n",
       "  <tbody>\n",
       "    <tr>\n",
       "      <th>143998</th>\n",
       "      <td>2023</td>\n",
       "      <td>SE</td>\n",
       "      <td>FT</td>\n",
       "      <td>0</td>\n",
       "      <td>M</td>\n",
       "      <td>Engineer</td>\n",
       "      <td>North America</td>\n",
       "      <td>North America</td>\n",
       "    </tr>\n",
       "    <tr>\n",
       "      <th>98720</th>\n",
       "      <td>2024</td>\n",
       "      <td>SE</td>\n",
       "      <td>FT</td>\n",
       "      <td>100</td>\n",
       "      <td>M</td>\n",
       "      <td>Analyst</td>\n",
       "      <td>North America</td>\n",
       "      <td>North America</td>\n",
       "    </tr>\n",
       "    <tr>\n",
       "      <th>8035</th>\n",
       "      <td>2025</td>\n",
       "      <td>MI</td>\n",
       "      <td>FT</td>\n",
       "      <td>100</td>\n",
       "      <td>M</td>\n",
       "      <td>Engineer</td>\n",
       "      <td>North America</td>\n",
       "      <td>North America</td>\n",
       "    </tr>\n",
       "    <tr>\n",
       "      <th>35918</th>\n",
       "      <td>2025</td>\n",
       "      <td>MI</td>\n",
       "      <td>FT</td>\n",
       "      <td>0</td>\n",
       "      <td>M</td>\n",
       "      <td>Other</td>\n",
       "      <td>North America</td>\n",
       "      <td>North America</td>\n",
       "    </tr>\n",
       "    <tr>\n",
       "      <th>53516</th>\n",
       "      <td>2025</td>\n",
       "      <td>SE</td>\n",
       "      <td>FT</td>\n",
       "      <td>0</td>\n",
       "      <td>M</td>\n",
       "      <td>Developer</td>\n",
       "      <td>North America</td>\n",
       "      <td>North America</td>\n",
       "    </tr>\n",
       "    <tr>\n",
       "      <th>...</th>\n",
       "      <td>...</td>\n",
       "      <td>...</td>\n",
       "      <td>...</td>\n",
       "      <td>...</td>\n",
       "      <td>...</td>\n",
       "      <td>...</td>\n",
       "      <td>...</td>\n",
       "      <td>...</td>\n",
       "    </tr>\n",
       "    <tr>\n",
       "      <th>57651</th>\n",
       "      <td>2025</td>\n",
       "      <td>SE</td>\n",
       "      <td>FT</td>\n",
       "      <td>100</td>\n",
       "      <td>M</td>\n",
       "      <td>Other</td>\n",
       "      <td>North America</td>\n",
       "      <td>North America</td>\n",
       "    </tr>\n",
       "    <tr>\n",
       "      <th>129082</th>\n",
       "      <td>2024</td>\n",
       "      <td>SE</td>\n",
       "      <td>FT</td>\n",
       "      <td>0</td>\n",
       "      <td>M</td>\n",
       "      <td>Engineer</td>\n",
       "      <td>North America</td>\n",
       "      <td>North America</td>\n",
       "    </tr>\n",
       "    <tr>\n",
       "      <th>125205</th>\n",
       "      <td>2024</td>\n",
       "      <td>MI</td>\n",
       "      <td>FT</td>\n",
       "      <td>0</td>\n",
       "      <td>M</td>\n",
       "      <td>Science</td>\n",
       "      <td>North America</td>\n",
       "      <td>North America</td>\n",
       "    </tr>\n",
       "    <tr>\n",
       "      <th>40753</th>\n",
       "      <td>2025</td>\n",
       "      <td>SE</td>\n",
       "      <td>FT</td>\n",
       "      <td>0</td>\n",
       "      <td>M</td>\n",
       "      <td>Engineer</td>\n",
       "      <td>North America</td>\n",
       "      <td>North America</td>\n",
       "    </tr>\n",
       "    <tr>\n",
       "      <th>14148</th>\n",
       "      <td>2025</td>\n",
       "      <td>SE</td>\n",
       "      <td>FT</td>\n",
       "      <td>0</td>\n",
       "      <td>M</td>\n",
       "      <td>Engineer</td>\n",
       "      <td>North America</td>\n",
       "      <td>North America</td>\n",
       "    </tr>\n",
       "  </tbody>\n",
       "</table>\n",
       "<p>117078 rows × 8 columns</p>\n",
       "</div>"
      ],
      "text/plain": [
       "        work_year experience_level employment_type  remote_ratio company_size  \\\n",
       "143998       2023               SE              FT             0            M   \n",
       "98720        2024               SE              FT           100            M   \n",
       "8035         2025               MI              FT           100            M   \n",
       "35918        2025               MI              FT             0            M   \n",
       "53516        2025               SE              FT             0            M   \n",
       "...           ...              ...             ...           ...          ...   \n",
       "57651        2025               SE              FT           100            M   \n",
       "129082       2024               SE              FT             0            M   \n",
       "125205       2024               MI              FT             0            M   \n",
       "40753        2025               SE              FT             0            M   \n",
       "14148        2025               SE              FT             0            M   \n",
       "\n",
       "       job_category         region company_region  \n",
       "143998     Engineer  North America  North America  \n",
       "98720       Analyst  North America  North America  \n",
       "8035       Engineer  North America  North America  \n",
       "35918         Other  North America  North America  \n",
       "53516     Developer  North America  North America  \n",
       "...             ...            ...            ...  \n",
       "57651         Other  North America  North America  \n",
       "129082     Engineer  North America  North America  \n",
       "125205      Science  North America  North America  \n",
       "40753      Engineer  North America  North America  \n",
       "14148      Engineer  North America  North America  \n",
       "\n",
       "[117078 rows x 8 columns]"
      ]
     },
     "execution_count": 120,
     "metadata": {},
     "output_type": "execute_result"
    }
   ],
   "source": [
    "x=df.drop(\"salary_in_usd\",axis=1)\n",
    "y=df[\"salary_in_usd\"]\n",
    "\n",
    "x_train,x_test,y_train,y_test=train_test_split(x,y,train_size=0.8,random_state=43)\n",
    "x_train"
   ]
  },
  {
   "cell_type": "code",
   "execution_count": 121,
   "id": "3d7528c5",
   "metadata": {},
   "outputs": [],
   "source": [
    "ordinal_column=[\"experience_level\",\"employment_type\",\"company_size\"]\n",
    "nominal_column=[\"job_category\",\"region\",\"company_region\"]\n",
    "numeric_column=[\"remote_ratio\",\"work_year\"]\n",
    "\n",
    "exp=['EN', 'MI', 'SE', 'EX']\n",
    "employ_type=['PT', 'CT', 'FT', 'FL']\n",
    "company_size=['S', 'M', 'L']\n",
    "\n",
    "\n",
    "ordinal_pipe=Pipeline(steps=[\n",
    "        (\"ordinal_pipe\",OrdinalEncoder(categories=[exp,employ_type,company_size])),\n",
    "        (\"scaler\",MinMaxScaler())\n",
    "])\n",
    "\n",
    "nominal_pipe=Pipeline(steps=[\n",
    "    (\"nominal_pipe\",OneHotEncoder(handle_unknown=\"ignore\"))\n",
    "])\n",
    "\n",
    "numeric_pipe=Pipeline(steps=[\n",
    "    (\"numeric_pipe\",MinMaxScaler())\n",
    "])"
   ]
  },
  {
   "cell_type": "code",
   "execution_count": 122,
   "id": "067cc80e",
   "metadata": {},
   "outputs": [],
   "source": [
    "preprocessor = ColumnTransformer(transformers=[\n",
    "    (\"ordinal_pipe\", ordinal_pipe, ordinal_column),\n",
    "    (\"nominal_pipe\", nominal_pipe, nominal_column),\n",
    "    (\"numeric_pipe\", numeric_pipe, numeric_column)\n",
    "])\n",
    "\n",
    "X_train_transformed = preprocessor.fit_transform(x_train)\n",
    "X_test_transformed  = preprocessor.transform(x_test)\n"
   ]
  },
  {
   "cell_type": "code",
   "execution_count": null,
   "id": "5320700a",
   "metadata": {},
   "outputs": [],
   "source": [
    "models_params = [\n",
    "    {\n",
    "        \"name\": \"RandomForestRegressor\",\n",
    "        \"model\": RandomForestRegressor(random_state=43),\n",
    "        \"params\": {\n",
    "            \"model__n_estimators\": [100,150,200],\n",
    "            \"model__criterion\": [\"squared_error\", \"absolute_error\", \"friedman_mse\", \"poisson\"]\n",
    "        }\n",
    "    },\n",
    "    {\n",
    "        \"name\": \"GradientBoostingRegressor\",\n",
    "        \"model\": GradientBoostingRegressor(),\n",
    "        \"params\": {\n",
    "            \"model__loss\": [\"squared_error\", \"absolute_error\", \"huber\", \"quantile\"],\n",
    "            \"model__learning_rate\": [0.05, 0.1, 0.2],\n",
    "            \"model__n_estimators\": [100,150,200],\n",
    "            \"model__criterion\": [\"friedman_mse\", \"squared_error\"]\n",
    "        }\n",
    "    }\n",
    "]\n",
    "\n",
    "for mp in models_params:\n",
    "    pipe = Pipeline(steps=[\n",
    "        (\"preprocessor\", preprocessor),\n",
    "        (\"model\", mp[\"model\"])\n",
    "    ])\n",
    "    \n",
    "    grid = GridSearchCV(pipe, mp[\"params\"], cv=5, scoring=\"r2\", n_jobs=-1)\n",
    "    grid.fit(x_train, y_train)\n",
    "    print(f\"{mp['name']} best score: {grid.best_score_}\")\n",
    "    print(f\"{mp['name']} best params: {grid.best_params_}\")"
   ]
  }
 ],
 "metadata": {
  "kernelspec": {
   "display_name": "Python 3",
   "language": "python",
   "name": "python3"
  },
  "language_info": {
   "codemirror_mode": {
    "name": "ipython",
    "version": 3
   },
   "file_extension": ".py",
   "mimetype": "text/x-python",
   "name": "python",
   "nbconvert_exporter": "python",
   "pygments_lexer": "ipython3",
   "version": "3.13.3"
  }
 },
 "nbformat": 4,
 "nbformat_minor": 5
}
