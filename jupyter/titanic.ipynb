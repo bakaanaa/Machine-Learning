{
 "cells": [
  {
   "cell_type": "code",
   "execution_count": 418,
   "id": "2d598bf8",
   "metadata": {},
   "outputs": [],
   "source": [
    "import pandas as pd\n",
    "import numpy as np\n",
    "import matplotlib.pyplot as plt\n",
    "from sklearn.model_selection import train_test_split\n",
    "from sklearn.preprocessing import StandardScaler"
   ]
  },
  {
   "cell_type": "code",
   "execution_count": 419,
   "id": "07a34b3c",
   "metadata": {},
   "outputs": [
    {
     "data": {
      "text/html": [
       "<div>\n",
       "<style scoped>\n",
       "    .dataframe tbody tr th:only-of-type {\n",
       "        vertical-align: middle;\n",
       "    }\n",
       "\n",
       "    .dataframe tbody tr th {\n",
       "        vertical-align: top;\n",
       "    }\n",
       "\n",
       "    .dataframe thead th {\n",
       "        text-align: right;\n",
       "    }\n",
       "</style>\n",
       "<table border=\"1\" class=\"dataframe\">\n",
       "  <thead>\n",
       "    <tr style=\"text-align: right;\">\n",
       "      <th></th>\n",
       "      <th>Survived</th>\n",
       "      <th>Pclass</th>\n",
       "      <th>Name</th>\n",
       "      <th>Sex</th>\n",
       "      <th>Age</th>\n",
       "      <th>SibSp</th>\n",
       "      <th>Parch</th>\n",
       "      <th>Ticket</th>\n",
       "      <th>Fare</th>\n",
       "      <th>Cabin</th>\n",
       "      <th>Embarked</th>\n",
       "    </tr>\n",
       "    <tr>\n",
       "      <th>PassengerId</th>\n",
       "      <th></th>\n",
       "      <th></th>\n",
       "      <th></th>\n",
       "      <th></th>\n",
       "      <th></th>\n",
       "      <th></th>\n",
       "      <th></th>\n",
       "      <th></th>\n",
       "      <th></th>\n",
       "      <th></th>\n",
       "      <th></th>\n",
       "    </tr>\n",
       "  </thead>\n",
       "  <tbody>\n",
       "    <tr>\n",
       "      <th>1</th>\n",
       "      <td>0</td>\n",
       "      <td>3</td>\n",
       "      <td>Braund, Mr. Owen Harris</td>\n",
       "      <td>male</td>\n",
       "      <td>22.0</td>\n",
       "      <td>1</td>\n",
       "      <td>0</td>\n",
       "      <td>A/5 21171</td>\n",
       "      <td>7.2500</td>\n",
       "      <td>NaN</td>\n",
       "      <td>S</td>\n",
       "    </tr>\n",
       "    <tr>\n",
       "      <th>2</th>\n",
       "      <td>1</td>\n",
       "      <td>1</td>\n",
       "      <td>Cumings, Mrs. John Bradley (Florence Briggs Th...</td>\n",
       "      <td>female</td>\n",
       "      <td>38.0</td>\n",
       "      <td>1</td>\n",
       "      <td>0</td>\n",
       "      <td>PC 17599</td>\n",
       "      <td>71.2833</td>\n",
       "      <td>C85</td>\n",
       "      <td>C</td>\n",
       "    </tr>\n",
       "    <tr>\n",
       "      <th>3</th>\n",
       "      <td>1</td>\n",
       "      <td>3</td>\n",
       "      <td>Heikkinen, Miss. Laina</td>\n",
       "      <td>female</td>\n",
       "      <td>26.0</td>\n",
       "      <td>0</td>\n",
       "      <td>0</td>\n",
       "      <td>STON/O2. 3101282</td>\n",
       "      <td>7.9250</td>\n",
       "      <td>NaN</td>\n",
       "      <td>S</td>\n",
       "    </tr>\n",
       "    <tr>\n",
       "      <th>4</th>\n",
       "      <td>1</td>\n",
       "      <td>1</td>\n",
       "      <td>Futrelle, Mrs. Jacques Heath (Lily May Peel)</td>\n",
       "      <td>female</td>\n",
       "      <td>35.0</td>\n",
       "      <td>1</td>\n",
       "      <td>0</td>\n",
       "      <td>113803</td>\n",
       "      <td>53.1000</td>\n",
       "      <td>C123</td>\n",
       "      <td>S</td>\n",
       "    </tr>\n",
       "    <tr>\n",
       "      <th>5</th>\n",
       "      <td>0</td>\n",
       "      <td>3</td>\n",
       "      <td>Allen, Mr. William Henry</td>\n",
       "      <td>male</td>\n",
       "      <td>35.0</td>\n",
       "      <td>0</td>\n",
       "      <td>0</td>\n",
       "      <td>373450</td>\n",
       "      <td>8.0500</td>\n",
       "      <td>NaN</td>\n",
       "      <td>S</td>\n",
       "    </tr>\n",
       "  </tbody>\n",
       "</table>\n",
       "</div>"
      ],
      "text/plain": [
       "             Survived  Pclass  \\\n",
       "PassengerId                     \n",
       "1                   0       3   \n",
       "2                   1       1   \n",
       "3                   1       3   \n",
       "4                   1       1   \n",
       "5                   0       3   \n",
       "\n",
       "                                                          Name     Sex   Age  \\\n",
       "PassengerId                                                                    \n",
       "1                                      Braund, Mr. Owen Harris    male  22.0   \n",
       "2            Cumings, Mrs. John Bradley (Florence Briggs Th...  female  38.0   \n",
       "3                                       Heikkinen, Miss. Laina  female  26.0   \n",
       "4                 Futrelle, Mrs. Jacques Heath (Lily May Peel)  female  35.0   \n",
       "5                                     Allen, Mr. William Henry    male  35.0   \n",
       "\n",
       "             SibSp  Parch            Ticket     Fare Cabin Embarked  \n",
       "PassengerId                                                          \n",
       "1                1      0         A/5 21171   7.2500   NaN        S  \n",
       "2                1      0          PC 17599  71.2833   C85        C  \n",
       "3                0      0  STON/O2. 3101282   7.9250   NaN        S  \n",
       "4                1      0            113803  53.1000  C123        S  \n",
       "5                0      0            373450   8.0500   NaN        S  "
      ]
     },
     "execution_count": 419,
     "metadata": {},
     "output_type": "execute_result"
    }
   ],
   "source": [
    "df=pd.read_csv(r\"D:\\AI\\Titanic-Dataset.csv\",index_col=\"PassengerId\")\n",
    "df.head()"
   ]
  },
  {
   "cell_type": "code",
   "execution_count": 420,
   "id": "7dd888ce",
   "metadata": {},
   "outputs": [],
   "source": [
    "df=df.drop([\"Name\",\"Ticket\",\"Cabin\"],axis=1)\n",
    "df=df.dropna()"
   ]
  },
  {
   "cell_type": "code",
   "execution_count": 421,
   "id": "8f61ad0e",
   "metadata": {},
   "outputs": [
    {
     "data": {
      "text/html": [
       "<div>\n",
       "<style scoped>\n",
       "    .dataframe tbody tr th:only-of-type {\n",
       "        vertical-align: middle;\n",
       "    }\n",
       "\n",
       "    .dataframe tbody tr th {\n",
       "        vertical-align: top;\n",
       "    }\n",
       "\n",
       "    .dataframe thead th {\n",
       "        text-align: right;\n",
       "    }\n",
       "</style>\n",
       "<table border=\"1\" class=\"dataframe\">\n",
       "  <thead>\n",
       "    <tr style=\"text-align: right;\">\n",
       "      <th></th>\n",
       "      <th>Survived</th>\n",
       "      <th>Pclass</th>\n",
       "      <th>Sex</th>\n",
       "      <th>Age</th>\n",
       "      <th>SibSp</th>\n",
       "      <th>Parch</th>\n",
       "      <th>Fare</th>\n",
       "      <th>Embarked</th>\n",
       "    </tr>\n",
       "    <tr>\n",
       "      <th>PassengerId</th>\n",
       "      <th></th>\n",
       "      <th></th>\n",
       "      <th></th>\n",
       "      <th></th>\n",
       "      <th></th>\n",
       "      <th></th>\n",
       "      <th></th>\n",
       "      <th></th>\n",
       "    </tr>\n",
       "  </thead>\n",
       "  <tbody>\n",
       "    <tr>\n",
       "      <th>1</th>\n",
       "      <td>0</td>\n",
       "      <td>3</td>\n",
       "      <td>male</td>\n",
       "      <td>22.0</td>\n",
       "      <td>1</td>\n",
       "      <td>0</td>\n",
       "      <td>7.2500</td>\n",
       "      <td>S</td>\n",
       "    </tr>\n",
       "    <tr>\n",
       "      <th>2</th>\n",
       "      <td>1</td>\n",
       "      <td>1</td>\n",
       "      <td>female</td>\n",
       "      <td>38.0</td>\n",
       "      <td>1</td>\n",
       "      <td>0</td>\n",
       "      <td>71.2833</td>\n",
       "      <td>C</td>\n",
       "    </tr>\n",
       "    <tr>\n",
       "      <th>3</th>\n",
       "      <td>1</td>\n",
       "      <td>3</td>\n",
       "      <td>female</td>\n",
       "      <td>26.0</td>\n",
       "      <td>0</td>\n",
       "      <td>0</td>\n",
       "      <td>7.9250</td>\n",
       "      <td>S</td>\n",
       "    </tr>\n",
       "    <tr>\n",
       "      <th>4</th>\n",
       "      <td>1</td>\n",
       "      <td>1</td>\n",
       "      <td>female</td>\n",
       "      <td>35.0</td>\n",
       "      <td>1</td>\n",
       "      <td>0</td>\n",
       "      <td>53.1000</td>\n",
       "      <td>S</td>\n",
       "    </tr>\n",
       "    <tr>\n",
       "      <th>5</th>\n",
       "      <td>0</td>\n",
       "      <td>3</td>\n",
       "      <td>male</td>\n",
       "      <td>35.0</td>\n",
       "      <td>0</td>\n",
       "      <td>0</td>\n",
       "      <td>8.0500</td>\n",
       "      <td>S</td>\n",
       "    </tr>\n",
       "  </tbody>\n",
       "</table>\n",
       "</div>"
      ],
      "text/plain": [
       "             Survived  Pclass     Sex   Age  SibSp  Parch     Fare Embarked\n",
       "PassengerId                                                                \n",
       "1                   0       3    male  22.0      1      0   7.2500        S\n",
       "2                   1       1  female  38.0      1      0  71.2833        C\n",
       "3                   1       3  female  26.0      0      0   7.9250        S\n",
       "4                   1       1  female  35.0      1      0  53.1000        S\n",
       "5                   0       3    male  35.0      0      0   8.0500        S"
      ]
     },
     "execution_count": 421,
     "metadata": {},
     "output_type": "execute_result"
    }
   ],
   "source": [
    "df.head()"
   ]
  },
  {
   "cell_type": "code",
   "execution_count": 422,
   "id": "5d923785",
   "metadata": {},
   "outputs": [],
   "source": [
    "mapper_sex={\n",
    "    \"male\":1,\n",
    "    \"female\":0\n",
    "}\n",
    "mapper_embarked={\n",
    "    \"S\":0,\n",
    "    \"C\":1,\n",
    "    \"Q\":2\n",
    "}\n",
    "\n",
    "df[\"Sex\"]=df[\"Sex\"].map(mapper_sex)\n",
    "df[\"Embarked\"]=df[\"Embarked\"].map(mapper_embarked)\n"
   ]
  },
  {
   "cell_type": "code",
   "execution_count": 423,
   "id": "9f0f94f3",
   "metadata": {},
   "outputs": [
    {
     "name": "stdout",
     "output_type": "stream",
     "text": [
      "<class 'pandas.core.frame.DataFrame'>\n",
      "Index: 712 entries, 1 to 891\n",
      "Data columns (total 8 columns):\n",
      " #   Column    Non-Null Count  Dtype  \n",
      "---  ------    --------------  -----  \n",
      " 0   Survived  712 non-null    int64  \n",
      " 1   Pclass    712 non-null    int64  \n",
      " 2   Sex       712 non-null    int64  \n",
      " 3   Age       712 non-null    float64\n",
      " 4   SibSp     712 non-null    int64  \n",
      " 5   Parch     712 non-null    int64  \n",
      " 6   Fare      712 non-null    float64\n",
      " 7   Embarked  712 non-null    int64  \n",
      "dtypes: float64(2), int64(6)\n",
      "memory usage: 50.1 KB\n"
     ]
    }
   ],
   "source": [
    "df.info()"
   ]
  },
  {
   "cell_type": "code",
   "execution_count": 424,
   "id": "508d6fbe",
   "metadata": {},
   "outputs": [],
   "source": [
    "X=df.drop(\"Survived\",axis=1).to_numpy().astype(np.float64)\n",
    "y=df[\"Survived\"].to_numpy(np.float64)"
   ]
  },
  {
   "cell_type": "code",
   "execution_count": 425,
   "id": "171edfc8",
   "metadata": {},
   "outputs": [
    {
     "data": {
      "text/plain": [
       "(712, 7)"
      ]
     },
     "execution_count": 425,
     "metadata": {},
     "output_type": "execute_result"
    }
   ],
   "source": [
    "X.shape"
   ]
  },
  {
   "cell_type": "code",
   "execution_count": 426,
   "id": "d273df8a",
   "metadata": {},
   "outputs": [],
   "source": [
    "X_b=np.hstack([np.ones((X.shape[0],1)),X])\n"
   ]
  },
  {
   "cell_type": "code",
   "execution_count": 427,
   "id": "da870cd4",
   "metadata": {},
   "outputs": [
    {
     "name": "stdout",
     "output_type": "stream",
     "text": [
      "(545, 8)\n",
      "(78, 8)\n",
      "(89, 8)\n"
     ]
    }
   ],
   "source": [
    "val_size=0.2\n",
    "test_size=0.125\n",
    "random_sate=2\n",
    "is_shuffle=True\n",
    "\n",
    "# Data set validation: 20% = 100-20=80\n",
    "X_train,X_val,y_train,y_val=train_test_split(\n",
    "    X_b,y,\n",
    "    test_size=test_size,\n",
    "    random_state=random_sate,\n",
    "    shuffle=is_shuffle\n",
    ")\n",
    "\n",
    "# Data set test: 10% = 10/80=0.125\n",
    "X_train,X_test,y_train,y_test=train_test_split(\n",
    "    X_train,y_train,\n",
    "    test_size=test_size,\n",
    "    random_state=random_sate,\n",
    "    shuffle=is_shuffle\n",
    ")\n",
    "\n",
    "print(X_train.shape)\n",
    "print(X_test.shape)\n",
    "print(X_val.shape)"
   ]
  },
  {
   "cell_type": "code",
   "execution_count": 428,
   "id": "fbaf7157",
   "metadata": {},
   "outputs": [],
   "source": [
    "scaler=StandardScaler()\n",
    "X_train=scaler.fit_transform(X_train)\n",
    "X_val=scaler.transform(X_val)\n",
    "X_test=scaler.transform(X_test)\n"
   ]
  },
  {
   "cell_type": "code",
   "execution_count": 429,
   "id": "cdb0574a",
   "metadata": {},
   "outputs": [
    {
     "data": {
      "text/plain": [
       "array([0.4359949 , 0.02592623, 0.54966248, 0.43532239, 0.4203678 ,\n",
       "       0.33033482, 0.20464863, 0.61927097])"
      ]
     },
     "execution_count": 429,
     "metadata": {},
     "output_type": "execute_result"
    }
   ],
   "source": [
    "lr=0.1\n",
    "epochs=100\n",
    "batch_size=16\n",
    "np.random.seed(random_sate)\n",
    "theta=np.random.uniform(size=X_train.shape[1])\n",
    "theta"
   ]
  },
  {
   "cell_type": "code",
   "execution_count": 430,
   "id": "9b449c44",
   "metadata": {},
   "outputs": [],
   "source": [
    "def sigmoid(z):\n",
    "    return 1/(1+np.exp(-z))\n",
    "\n",
    "def predict(X,theta):\n",
    "    z=np.dot(X,theta)\n",
    "    y_hat=sigmoid(z)\n",
    "    return y_hat\n",
    "\n",
    "def loss(y_hat,y):\n",
    "    y_hat=np.clip(y_hat,1e-7,1-1e-7)\n",
    "    m=len(y)\n",
    "    return (-y.T.dot(np.log(y_hat))-(1-y).T.dot(np.log(1-y_hat)))/m\n",
    "\n",
    "def compute_gradient(X,y_hat,y):\n",
    "    m=len(y)\n",
    "    gradient = (X.T.dot(y_hat - y)) / m\n",
    "    return gradient\n",
    "\n",
    "def update_grad(theta,lr,gradient):\n",
    "    theta=theta-lr*gradient\n",
    "    return theta\n",
    "\n",
    "def accuracy(X,y,theta):\n",
    "    y_hat=predict(X,theta).round()\n",
    "    acc=(y_hat==y).mean()\n",
    "    return acc\n",
    "\n"
   ]
  },
  {
   "cell_type": "code",
   "execution_count": 431,
   "id": "e88b28fc",
   "metadata": {},
   "outputs": [],
   "source": [
    "# train_losses, val_losses = [], []\n",
    "# train_accs, val_accs = [], []\n",
    "# for epoch in range(epochs):\n",
    "\n",
    "#     for i in range(0,X_train.shape[0],batch_size):\n",
    "#         xi=X_train[i:i+batch_size]\n",
    "#         yi=y_train[i:i+batch_size]\n",
    "\n",
    "#         y_hat = predict(xi, theta)\n",
    "#         gradient = compute_gradient(xi, y_hat, yi)\n",
    "#         theta = update_grad(theta, lr, gradient)\n",
    "\n",
    "#     # === Sau 1 epoch mới tính loss/acc ===\n",
    "#         train_loss = loss(predict(X_train, theta), y_train)\n",
    "#         val_loss = loss(predict(X_val, theta), y_val)\n",
    "#         train_acc = accuracy(X_train, y_train, theta)\n",
    "#         val_acc = accuracy(X_val, y_val, theta)\n",
    "\n",
    "#         train_losses.append(train_loss)\n",
    "#         val_losses.append(val_loss)\n",
    "#         train_accs.append(train_acc)\n",
    "#         val_accs.append(val_acc)"
   ]
  },
  {
   "cell_type": "code",
   "execution_count": 432,
   "id": "f44c47f8",
   "metadata": {},
   "outputs": [],
   "source": [
    "# fig, ax = plt.subplots(2,2, figsize=(12,10))\n",
    "# ax[0,0].plot(train_losses, label=\"Train Loss\")\n",
    "# ax[0,1].plot(val_losses, label=\"Val Loss\")\n",
    "# ax[1,0].plot(train_accs, label=\"Train Acc\")\n",
    "# ax[1,1].plot(val_accs, label=\"Val Acc\")\n",
    "# for a in ax.flat: a.legend()"
   ]
  },
  {
   "cell_type": "code",
   "execution_count": 433,
   "id": "5450d7a2",
   "metadata": {},
   "outputs": [
    {
     "name": "stdout",
     "output_type": "stream",
     "text": [
      "early stopping epoch:55\n",
      "best_theta:[ 0.4359949  -0.56491981 -1.13805299 -0.2379625  -0.12696125 -0.01777692\n",
      "  0.38418083  0.2109647 ]\n"
     ]
    }
   ],
   "source": [
    "train_losses, val_losses, train_accs, val_accs = [], [], [], []\n",
    "\n",
    "best_val_loss=float(\"inf\")\n",
    "partience=50 # so epoch wait\n",
    "wait=0\n",
    "best_theta=theta.copy()\n",
    "\n",
    "for epoch in range(epochs):\n",
    "\n",
    "\n",
    "    for i in range(0, X_train.shape[0], batch_size):\n",
    "        xi=X_train[i:i+batch_size]\n",
    "        yi=y_train[i:i+batch_size]\n",
    "        y_hat = predict(xi, theta)\n",
    "        gradient = compute_gradient(xi, y_hat, yi)\n",
    "        theta = update_grad(theta, lr, gradient)\n",
    "\n",
    "    train_loss = loss(predict(X_train, theta), y_train)\n",
    "    val_loss   = loss(predict(X_val, theta), y_val)\n",
    "    train_acc  = accuracy(X_train, y_train, theta)\n",
    "    val_acc    = accuracy(X_val, y_val, theta)\n",
    "\n",
    "    train_losses.append(train_loss)\n",
    "    val_losses.append(val_loss)\n",
    "    train_accs.append(train_acc)\n",
    "    val_accs.append(val_acc)\n",
    "\n",
    "    if val_loss<best_val_loss:\n",
    "        best_val_loss=val_loss\n",
    "        best_theta=theta.copy()\n",
    "        wait=0\n",
    "    else:\n",
    "        wait+=1\n",
    "        if wait>partience:\n",
    "            print(f\"early stopping epoch:{epoch+1}\")\n",
    "            theta=best_theta\n",
    "            print(f\"best_theta:{best_theta}\")\n",
    "            break"
   ]
  },
  {
   "cell_type": "code",
   "execution_count": 434,
   "id": "f976fd3a",
   "metadata": {},
   "outputs": [
    {
     "data": {
      "image/png": "[encoded data removed]",
      "text/plain": [
       "<Figure size 1200x1000 with 4 Axes>"
      ]
     },
     "metadata": {},
     "output_type": "display_data"
    }
   ],
   "source": [
    "fig, ax = plt.subplots(2,2, figsize=(12,10))\n",
    "ax[0,0].plot(train_losses, label=\"Train Loss\")\n",
    "ax[0,1].plot(val_losses, label=\"Val Loss\")\n",
    "ax[1,0].plot(train_accs, label=\"Train Acc\")\n",
    "ax[1,1].plot(val_accs, label=\"Val Acc\")\n",
    "for a in ax.flat: a.legend()"
   ]
  },
  {
   "cell_type": "code",
   "execution_count": 435,
   "id": "edb72fe5",
   "metadata": {},
   "outputs": [
    {
     "name": "stdout",
     "output_type": "stream",
     "text": [
      "evaluation on validation\n",
      "accuracy: 0.7415730337078652\n",
      "evaluation on test\n",
      "accuracy: 0.7564102564102564\n"
     ]
    }
   ],
   "source": [
    "val_set_acc=accuracy(X_val,y_val,theta)\n",
    "print(\"evaluation on validation\")\n",
    "print(\"accuracy:\",val_set_acc)\n",
    "\n",
    "test_set_acc=accuracy(X_test,y_test,theta)\n",
    "print(\"evaluation on test\")\n",
    "print(\"accuracy:\",test_set_acc)"
   ]
  }
 ],
 "metadata": {
  "kernelspec": {
   "display_name": "Python 3",
   "language": "python",
   "name": "python3"
  },
  "language_info": {
   "codemirror_mode": {
    "name": "ipython",
    "version": 3
   },
   "file_extension": ".py",
   "mimetype": "text/x-python",
   "name": "python",
   "nbconvert_exporter": "python",
   "pygments_lexer": "ipython3",
   "version": "3.13.3"
  }
 },
 "nbformat": 4,
 "nbformat_minor": 5
}
